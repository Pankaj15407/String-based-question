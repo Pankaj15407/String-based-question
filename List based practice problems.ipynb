{
 "cells": [
  {
   "cell_type": "code",
   "execution_count": 1,
   "id": "1d3f5850-6192-4b66-bb1a-d2bc322c7c19",
   "metadata": {},
   "outputs": [
    {
     "name": "stdout",
     "output_type": "stream",
     "text": [
      "[1, 2, 3, 4, 5, 6, 7, 8, 9, 10]\n"
     ]
    }
   ],
   "source": [
    "#Problem 1\n",
    "#  Create a list with integers from 1 to 10.\n",
    "\n",
    "\n",
    "my_list = list(range(1, 11))\n",
    "print(my_list)\n",
    "\n",
    "\n"
   ]
  },
  {
   "cell_type": "code",
   "execution_count": 3,
   "id": "ec1a1217-e97b-47e1-90ea-994b697783df",
   "metadata": {},
   "outputs": [
    {
     "name": "stdout",
     "output_type": "stream",
     "text": [
      "Length of the list: 10\n"
     ]
    }
   ],
   "source": [
    "#Problem 2\n",
    "#  Find the length of a list without using the `len()` function.\n",
    "\n",
    "\n",
    "my_list = [1, 2, 3, 4, 5, 6, 7, 8, 9, 10]\n",
    "\n",
    "length = 0\n",
    "\n",
    "for _ in my_list:\n",
    "    length += 1\n",
    "\n",
    "print(\"Length of the list:\", length)\n"
   ]
  },
  {
   "cell_type": "code",
   "execution_count": 4,
   "id": "63258c78-7a44-4f0d-83d0-8f812f0c303a",
   "metadata": {},
   "outputs": [
    {
     "name": "stdout",
     "output_type": "stream",
     "text": [
      "[1, 2, 3, 4, 5, 6]\n"
     ]
    }
   ],
   "source": [
    "#Problem 3\n",
    "#  Append an element to the end of a list.\n",
    "\n",
    "\n",
    "my_list = [1, 2, 3, 4, 5]\n",
    "\n",
    "\n",
    "my_list.append(6)\n",
    "\n",
    "print(my_list)\n"
   ]
  },
  {
   "cell_type": "code",
   "execution_count": 5,
   "id": "f0cb3c13-3c1b-495a-afed-f17a4ecef138",
   "metadata": {},
   "outputs": [
    {
     "name": "stdout",
     "output_type": "stream",
     "text": [
      "[1, 2, 6, 3, 4, 5]\n"
     ]
    }
   ],
   "source": [
    "#Problem 4\n",
    "# Insert an element at a specific index in a list.\n",
    "\n",
    "\n",
    "my_list = [1, 2, 3, 4, 5]\n",
    "\n",
    "\n",
    "my_list.insert(2, 6)\n",
    "\n",
    "print(my_list)\n"
   ]
  },
  {
   "cell_type": "code",
   "execution_count": 6,
   "id": "1821fa37-2ed3-4984-b085-b3dc8d79ed51",
   "metadata": {},
   "outputs": [
    {
     "name": "stdout",
     "output_type": "stream",
     "text": [
      "[1, 2, 4, 5]\n"
     ]
    }
   ],
   "source": [
    "#Problem 5\n",
    "#  Remove an element from a list by its value.\n",
    "\n",
    "\n",
    "my_list = [1, 2, 3, 4, 5]\n",
    "\n",
    "\n",
    "my_list.remove(3)\n",
    "\n",
    "print(my_list)\n"
   ]
  },
  {
   "cell_type": "code",
   "execution_count": 7,
   "id": "c023f606-6089-468c-a370-98c767821a9e",
   "metadata": {},
   "outputs": [
    {
     "name": "stdout",
     "output_type": "stream",
     "text": [
      "Removed Element: 3\n",
      "Updated List: [1, 2, 4, 5]\n"
     ]
    }
   ],
   "source": [
    "#Problem 6\n",
    "#  Remove an element from a list by its index.\n",
    "\n",
    "my_list = [1, 2, 3, 4, 5]\n",
    "\n",
    "\n",
    "removed_element = my_list.pop(2)\n",
    "\n",
    "print(\"Removed Element:\", removed_element)\n",
    "print(\"Updated List:\", my_list)\n"
   ]
  },
  {
   "cell_type": "code",
   "execution_count": 8,
   "id": "b1f9c22e-becc-410c-bbf1-17943fd5c18a",
   "metadata": {},
   "outputs": [
    {
     "name": "stdout",
     "output_type": "stream",
     "text": [
      "Element 3 exists in the list.\n"
     ]
    }
   ],
   "source": [
    "#Problem 7\n",
    "#  Check if an element exists in a list.\n",
    "\n",
    "\n",
    "my_list = [1, 2, 3, 4, 5]\n",
    "\n",
    "\n",
    "if 3 in my_list:\n",
    "    print(\"Element 3 exists in the list.\")\n",
    "else:\n",
    "    print(\"Element 3 does not exist in the list.\")\n"
   ]
  },
  {
   "cell_type": "code",
   "execution_count": 9,
   "id": "180ed8c8-8bf9-49e8-8859-cada94bb1e49",
   "metadata": {},
   "outputs": [
    {
     "name": "stdout",
     "output_type": "stream",
     "text": [
      "Index of the first occurrence of 3: 2\n"
     ]
    }
   ],
   "source": [
    "#Problem 8\n",
    "#  Find the index of the first occurrence of an element in a list.\n",
    "\n",
    "\n",
    "my_list = [1, 2, 3, 4, 3, 5]\n",
    "\n",
    "\n",
    "index_of_3 = my_list.index(3)\n",
    "\n",
    "print(\"Index of the first occurrence of 3:\", index_of_3)\n"
   ]
  },
  {
   "cell_type": "code",
   "execution_count": 10,
   "id": "318720bb-6822-4c5e-a102-4018d97730f3",
   "metadata": {},
   "outputs": [
    {
     "name": "stdout",
     "output_type": "stream",
     "text": [
      "Occurrences of 3 in the list: 3\n"
     ]
    }
   ],
   "source": [
    "#Problem 9\n",
    "#   Count the occurrences of an element in a list.\n",
    "\n",
    "\n",
    "my_list = [1, 2, 3, 4, 3, 5, 3]\n",
    "\n",
    "\n",
    "count_of_3 = my_list.count(3)\n",
    "\n",
    "print(\"Occurrences of 3 in the list:\", count_of_3)\n",
    "\n"
   ]
  },
  {
   "cell_type": "code",
   "execution_count": 11,
   "id": "c5004e17-8019-4a37-ab1e-e6d52c83bf9a",
   "metadata": {},
   "outputs": [
    {
     "name": "stdout",
     "output_type": "stream",
     "text": [
      "Reversed List: [5, 4, 3, 2, 1]\n"
     ]
    }
   ],
   "source": [
    "#Problem 10\n",
    "#   Reverse the order of elements in a list.\n",
    "\n",
    "\n",
    "my_list = [1, 2, 3, 4, 5]\n",
    "\n",
    "\n",
    "my_list.reverse()\n",
    "\n",
    "print(\"Reversed List:\", my_list)\n",
    "\n"
   ]
  },
  {
   "cell_type": "code",
   "execution_count": 12,
   "id": "3da1ca61-d245-468e-bc18-4e0bad29521a",
   "metadata": {},
   "outputs": [
    {
     "name": "stdout",
     "output_type": "stream",
     "text": [
      "Sorted List: [1, 2, 3, 5, 8]\n"
     ]
    }
   ],
   "source": [
    "#Problem 11\n",
    "#  Sort a list in ascending order.\n",
    "\n",
    "\n",
    "my_list = [5, 2, 8, 1, 3]\n",
    "\n",
    "\n",
    "my_list.sort()\n",
    "\n",
    "print(\"Sorted List:\", my_list)\n"
   ]
  },
  {
   "cell_type": "code",
   "execution_count": 13,
   "id": "bac1e21b-9f7b-423a-9bd1-eb10fa64aace",
   "metadata": {},
   "outputs": [
    {
     "name": "stdout",
     "output_type": "stream",
     "text": [
      "Sorted List (Descending): [8, 5, 3, 2, 1]\n"
     ]
    }
   ],
   "source": [
    "#Problem 12\n",
    "#  Sort a list in descending order\n",
    "\n",
    "\n",
    "\n",
    "my_list = [5, 2, 8, 1, 3]\n",
    "\n",
    "\n",
    "my_list.sort(reverse=True)\n",
    "\n",
    "print(\"Sorted List (Descending):\", my_list)\n"
   ]
  },
  {
   "cell_type": "code",
   "execution_count": 14,
   "id": "8e0baec2-ab6d-476b-88a0-3c220f88e7e0",
   "metadata": {},
   "outputs": [
    {
     "name": "stdout",
     "output_type": "stream",
     "text": [
      "[2, 4, 6, 8, 10, 12, 14, 16, 18, 20]\n"
     ]
    }
   ],
   "source": [
    "#Problem 13\n",
    "#   Create a list of even numbers from 1 to 20.\n",
    "\n",
    "\n",
    "even_numbers = [num for num in range(2, 21, 2)]\n",
    "\n",
    "print(even_numbers)\n",
    "\n"
   ]
  },
  {
   "cell_type": "code",
   "execution_count": 15,
   "id": "e574aee1-3939-4797-96e4-45425413a6ba",
   "metadata": {},
   "outputs": [
    {
     "name": "stdout",
     "output_type": "stream",
     "text": [
      "[1, 3, 5, 7, 9, 11, 13, 15, 17, 19]\n"
     ]
    }
   ],
   "source": [
    "#Problem 14\n",
    "#  Create a list of odd numbers from 1 to 20.\n",
    "\n",
    "\n",
    "odd_numbers = [num for num in range(1, 21, 2)]\n",
    "\n",
    "print(odd_numbers)\n"
   ]
  },
  {
   "cell_type": "code",
   "execution_count": 16,
   "id": "e62eef1b-29dc-41a1-88e1-4f2662990738",
   "metadata": {},
   "outputs": [
    {
     "name": "stdout",
     "output_type": "stream",
     "text": [
      "Sum of elements: 15\n"
     ]
    }
   ],
   "source": [
    "#Problem 15\n",
    "#  Find the sum of all elements in a list.\n",
    "\n",
    "my_list = [1, 2, 3, 4, 5]\n",
    "\n",
    "\n",
    "sum_of_elements = sum(my_list)\n",
    "\n",
    "print(\"Sum of elements:\", sum_of_elements)\n",
    "\n"
   ]
  },
  {
   "cell_type": "code",
   "execution_count": 18,
   "id": "44398fac-9069-4156-be27-ed1d8fe08c93",
   "metadata": {},
   "outputs": [
    {
     "name": "stdout",
     "output_type": "stream",
     "text": [
      "Maximum value: 16\n"
     ]
    }
   ],
   "source": [
    "#Problem 16\n",
    "#  Find the maximum value in a list.\n",
    "\n",
    "\n",
    "my_list = [4, 7, 1, 9, 3, 16]\n",
    "\n",
    "\n",
    "max_value = max(my_list)\n",
    "\n",
    "print(\"Maximum value:\", max_value)\n",
    "\n"
   ]
  },
  {
   "cell_type": "code",
   "execution_count": 19,
   "id": "e300e1f9-2500-4860-a000-ab562b80febc",
   "metadata": {},
   "outputs": [
    {
     "name": "stdout",
     "output_type": "stream",
     "text": [
      "Minimum value: 1\n"
     ]
    }
   ],
   "source": [
    "#Problem 17\n",
    "#  Find the minimum value in a list.\n",
    "\n",
    "my_list = [4, 7, 1, 9, 3, 6]\n",
    "\n",
    "\n",
    "min_value = min(my_list)\n",
    "\n",
    "print(\"Minimum value:\", min_value)\n",
    "\n"
   ]
  },
  {
   "cell_type": "code",
   "execution_count": 21,
   "id": "4872a868-a797-453e-ba69-e3ba424c7b82",
   "metadata": {},
   "outputs": [
    {
     "name": "stdout",
     "output_type": "stream",
     "text": [
      "[1, 4, 9, 16, 25, 36, 49, 64, 81, 100]\n"
     ]
    }
   ],
   "source": [
    "#Problem 18\n",
    "#   Create a list of squares of numbers from 1 to 10.\n",
    "\n",
    "\n",
    "squares_list = [num ** 2 for num in range(1, 11)]\n",
    "\n",
    "print(squares_list)\n"
   ]
  },
  {
   "cell_type": "code",
   "execution_count": 22,
   "id": "fbd4e55a-44a7-4ec2-bd92-25530af2d7f9",
   "metadata": {},
   "outputs": [
    {
     "name": "stdout",
     "output_type": "stream",
     "text": [
      "[0.20168040311781477, 0.25779441899196165, 0.0029374787082844245, 0.09489559332869191, 0.13638596454379592]\n"
     ]
    }
   ],
   "source": [
    "#Problem 19\n",
    "#  Create a list of random numbers.\n",
    "\n",
    "\n",
    "import random\n",
    "\n",
    "\n",
    "random_numbers = [random.uniform(0, 1) for _ in range(5)]\n",
    "\n",
    "print(random_numbers)\n"
   ]
  },
  {
   "cell_type": "code",
   "execution_count": 23,
   "id": "585db75f-dd58-471a-af22-cb2cae8ca78b",
   "metadata": {},
   "outputs": [
    {
     "name": "stdout",
     "output_type": "stream",
     "text": [
      "Original List: [1, 2, 2, 3, 4, 4, 5]\n",
      "List with Duplicates Removed: [1, 2, 3, 4, 5]\n"
     ]
    }
   ],
   "source": [
    "#Problem 20\n",
    "#  Remove duplicates from a list.\n",
    "\n",
    "\n",
    "my_list = [1, 2, 2, 3, 4, 4, 5]\n",
    "\n",
    "\n",
    "unique_list = list(set(my_list))\n",
    "\n",
    "print(\"Original List:\", my_list)\n",
    "print(\"List with Duplicates Removed:\", unique_list)\n"
   ]
  },
  {
   "cell_type": "code",
   "execution_count": 26,
   "id": "a1dc2081-a5ae-4cf7-85cf-9fc4e18e0562",
   "metadata": {},
   "outputs": [
    {
     "name": "stdout",
     "output_type": "stream",
     "text": [
      "List 1: [1, 2, 3, 4, 5]\n",
      "List 2: [3, 4, 5, 6, 7]\n",
      "Common Elements: [3, 4, 5]\n"
     ]
    }
   ],
   "source": [
    "#Problem 21\n",
    "#  Find the common elements between two lists.\n",
    "\n",
    "\n",
    "list1 = [1, 2, 3, 4, 5]\n",
    "list2 = [3, 4, 5, 6, 7]\n",
    "\n",
    "\n",
    "common_elements = list(set(list1) & set(list2))\n",
    "\n",
    "print(\"List 1:\", list1)\n",
    "print(\"List 2:\", list2)\n",
    "print(\"Common Elements:\", common_elements)\n",
    "\n"
   ]
  },
  {
   "cell_type": "code",
   "execution_count": 28,
   "id": "cffbf62f-ffe9-490d-ae86-f1af684c9abe",
   "metadata": {},
   "outputs": [
    {
     "name": "stdout",
     "output_type": "stream",
     "text": [
      "List 1: [1, 2, 3, 4, 5]\n",
      "List 2: [3, 4, 5, 6, 7]\n",
      "Elements unique to List 1: [1, 2]\n",
      "Elements unique to List 2: [6, 7]\n"
     ]
    }
   ],
   "source": [
    "#Problem 22\n",
    "#  Find the difference between two lists.\n",
    "\n",
    "\n",
    "list1 = [1, 2, 3, 4, 5]\n",
    "list2 = [3, 4, 5, 6, 7]\n",
    "\n",
    "\n",
    "difference_list1 = list(set(list1) - set(list2))\n",
    "difference_list2 = list(set(list2) - set(list1))\n",
    "\n",
    "print(\"List 1:\", list1)\n",
    "print(\"List 2:\", list2)\n",
    "print(\"Elements unique to List 1:\", difference_list1)\n",
    "print(\"Elements unique to List 2:\", difference_list2)\n",
    "\n"
   ]
  },
  {
   "cell_type": "code",
   "execution_count": 29,
   "id": "2d996f48-1262-4a0c-a446-99f099152153",
   "metadata": {},
   "outputs": [
    {
     "name": "stdout",
     "output_type": "stream",
     "text": [
      "List 1: [1, 2, 3]\n",
      "List 2: [4, 5, 6]\n",
      "Merged List: [1, 2, 3, 4, 5, 6]\n"
     ]
    }
   ],
   "source": [
    "#Problem 23\n",
    "#  Merge two lists.\n",
    "\n",
    "\n",
    "list1 = [1, 2, 3]\n",
    "list2 = [4, 5, 6]\n",
    "\n",
    "\n",
    "merged_list = list1 + list2\n",
    "\n",
    "print(\"List 1:\", list1)\n",
    "print(\"List 2:\", list2)\n",
    "print(\"Merged List:\", merged_list)\n"
   ]
  },
  {
   "cell_type": "code",
   "execution_count": 31,
   "id": "7ab8c1c2-066d-42c8-9ae7-8b874383e733",
   "metadata": {},
   "outputs": [
    {
     "name": "stdout",
     "output_type": "stream",
     "text": [
      "Original List: [1, 2, 3, 4, 5]\n",
      "Multiplied List: [2, 4, 6, 8, 10]\n"
     ]
    }
   ],
   "source": [
    "#Problem 24\n",
    "#   Multiply all elements in a list by 2.\n",
    "\n",
    "\n",
    "original_list = [1, 2, 3, 4, 5]\n",
    "\n",
    "\n",
    "multiplied_list = [element * 2 for element in original_list]\n",
    "\n",
    "print(\"Original List:\", original_list)\n",
    "print(\"Multiplied List:\", multiplied_list)\n"
   ]
  },
  {
   "cell_type": "code",
   "execution_count": 33,
   "id": "f71120a6-09e5-4229-8a17-4a54c63c26f3",
   "metadata": {},
   "outputs": [
    {
     "name": "stdout",
     "output_type": "stream",
     "text": [
      "Original List: [1, 2, 3, 4, 5, 6, 7, 8, 9, 10]\n",
      "Filtered List (No Even Numbers): [1, 3, 5, 7, 9]\n"
     ]
    }
   ],
   "source": [
    "#Problem 25\n",
    "# Filter out all even numbers from a list.\n",
    "\n",
    "\n",
    "original_list = [1, 2, 3, 4, 5, 6, 7, 8, 9, 10]\n",
    "\n",
    "\n",
    "filtered_list = [number for number in original_list if number % 2 != 0]\n",
    "\n",
    "print(\"Original List:\", original_list)\n",
    "print(\"Filtered List (No Even Numbers):\", filtered_list)\n"
   ]
  },
  {
   "cell_type": "code",
   "execution_count": 35,
   "id": "5c8b3f87-8431-4a3f-91a0-a0591f8ab1c5",
   "metadata": {},
   "outputs": [
    {
     "name": "stdout",
     "output_type": "stream",
     "text": [
      "Original String List: ['1', '2', '3', '4', '5']\n",
      "Converted Integer List: [1, 2, 3, 4, 5]\n"
     ]
    }
   ],
   "source": [
    "#Problem 26\n",
    "#   Convert a list of strings to a list of integers.\n",
    "\n",
    "\n",
    "string_list = [\"1\", \"2\", \"3\", \"4\", \"5\"]\n",
    "\n",
    "\n",
    "integer_list = [int(element) for element in string_list]\n",
    "\n",
    "print(\"Original String List:\", string_list)\n",
    "print(\"Converted Integer List:\", integer_list)\n",
    "\n"
   ]
  },
  {
   "cell_type": "code",
   "execution_count": 36,
   "id": "af7d9a30-1863-4f6e-9500-205303fab0c3",
   "metadata": {},
   "outputs": [
    {
     "name": "stdout",
     "output_type": "stream",
     "text": [
      "Original Integer List: [1, 2, 3, 4, 5]\n",
      "Converted String List: ['1', '2', '3', '4', '5']\n"
     ]
    }
   ],
   "source": [
    "#Problem 27\n",
    "#   Convert a list of integers to a list of strings.\n",
    "\n",
    "integer_list = [1, 2, 3, 4, 5]\n",
    "\n",
    "\n",
    "string_list = [str(element) for element in integer_list]\n",
    "\n",
    "print(\"Original Integer List:\", integer_list)\n",
    "print(\"Converted String List:\", string_list)\n"
   ]
  },
  {
   "cell_type": "code",
   "execution_count": 38,
   "id": "9c733358-8d6c-4592-860d-e2a0f04a5b7b",
   "metadata": {},
   "outputs": [
    {
     "name": "stdout",
     "output_type": "stream",
     "text": [
      "Original Nested List: [1, [2, 3, [4, 5]], 6, [7, 8]]\n",
      "Flattened List: [1, 2, 3, 4, 5, 6, 7, 8]\n"
     ]
    }
   ],
   "source": [
    "#Problem 28\n",
    "#   Flatten a nested list.\n",
    "\n",
    "\n",
    "def flatten(nested_list):\n",
    "    flat_list = [item for sublist in nested_list for item in (flatten(sublist) if isinstance(sublist, list) else [sublist])]\n",
    "    return flat_list\n",
    "\n",
    "nested_list = [1, [2, 3, [4, 5]], 6, [7, 8]]\n",
    "\n",
    "\n",
    "flattened_list = flatten(nested_list)\n",
    "\n",
    "print(\"Original Nested List:\", nested_list)\n",
    "print(\"Flattened List:\", flattened_list)\n"
   ]
  },
  {
   "cell_type": "code",
   "execution_count": 39,
   "id": "074e299f-d824-4abf-b480-a1c7eb8a8071",
   "metadata": {},
   "outputs": [
    {
     "name": "stdout",
     "output_type": "stream",
     "text": [
      "First 10 Fibonacci Numbers: [0, 1, 1, 2, 3, 5, 8, 13, 21, 34]\n"
     ]
    }
   ],
   "source": [
    "#Problem 29\n",
    "#   Create a list of the first 10 Fibonacci numbers.\n",
    "\n",
    "def generate_fibonacci(n):\n",
    "    fibonacci_list = [0, 1]\n",
    "    \n",
    "    while len(fibonacci_list) < n:\n",
    "        next_number = fibonacci_list[-1] + fibonacci_list[-2]\n",
    "        fibonacci_list.append(next_number)\n",
    "    \n",
    "    return fibonacci_list\n",
    "\n",
    "\n",
    "first_10_fibonacci = generate_fibonacci(10)\n",
    "\n",
    "print(\"First 10 Fibonacci Numbers:\", first_10_fibonacci)\n"
   ]
  },
  {
   "cell_type": "code",
   "execution_count": 40,
   "id": "a0b0d97f-f94d-4a57-a0b6-e9c233df0915",
   "metadata": {},
   "outputs": [
    {
     "name": "stdout",
     "output_type": "stream",
     "text": [
      "Is the list sorted? (Sorted List): True\n",
      "Is the list sorted? (Unsorted List): False\n"
     ]
    }
   ],
   "source": [
    "#Problem 30\n",
    "#   Check if a list is sorted.\n",
    "\n",
    "\n",
    "\n",
    "def is_sorted(lst):\n",
    "    return all(lst[i] <= lst[i + 1] for i in range(len(lst) - 1))\n",
    "\n",
    "\n",
    "sorted_list = [1, 2, 3, 4, 5]\n",
    "unsorted_list = [3, 1, 4, 1, 5, 9, 2, 6]\n",
    "\n",
    "print(\"Is the list sorted? (Sorted List):\", is_sorted(sorted_list))\n",
    "print(\"Is the list sorted? (Unsorted List):\", is_sorted(unsorted_list))\n"
   ]
  },
  {
   "cell_type": "code",
   "execution_count": 41,
   "id": "5222073f-b538-4d6f-8099-e0d926779c46",
   "metadata": {},
   "outputs": [
    {
     "name": "stdout",
     "output_type": "stream",
     "text": [
      "Original List: [1, 2, 3, 4, 5]\n",
      "Rotated List: [3, 4, 5, 1, 2]\n"
     ]
    }
   ],
   "source": [
    "#Problem 31\n",
    "#   Rotate a list to the left by `n` positions.\n",
    "\n",
    "def rotate_left(lst, n):\n",
    "    n = n % len(lst)  # Ensure n is within the length of the list\n",
    "    rotated_list = lst[n:] + lst[:n]\n",
    "    return rotated_list\n",
    "\n",
    "\n",
    "original_list = [1, 2, 3, 4, 5]\n",
    "\n",
    "\n",
    "rotated_list = rotate_left(original_list, 2)\n",
    "\n",
    "print(\"Original List:\", original_list)\n",
    "print(\"Rotated List:\", rotated_list)\n",
    "\n"
   ]
  },
  {
   "cell_type": "code",
   "execution_count": 42,
   "id": "37c717bb-e93f-45d8-a416-7b5b4c42c3f8",
   "metadata": {},
   "outputs": [
    {
     "name": "stdout",
     "output_type": "stream",
     "text": [
      "Original List: [1, 2, 3, 4, 5]\n",
      "Rotated List: [4, 5, 1, 2, 3]\n"
     ]
    }
   ],
   "source": [
    "#Problem 32\n",
    "#   Rotate a list to the right by `n` positions.\n",
    "\n",
    "\n",
    "def rotate_right(lst, n):\n",
    "    n = n % len(lst)  # Ensure n is within the length of the list\n",
    "    rotated_list = lst[-n:] + lst[:-n]\n",
    "    return rotated_list\n",
    "\n",
    "\n",
    "original_list = [1, 2, 3, 4, 5]\n",
    "\n",
    "\n",
    "rotated_list = rotate_right(original_list, 2)\n",
    "\n",
    "print(\"Original List:\", original_list)\n",
    "print(\"Rotated List:\", rotated_list)\n"
   ]
  },
  {
   "cell_type": "code",
   "execution_count": 44,
   "id": "1473f0cc-ada4-4ee6-9f66-c6c6179e1806",
   "metadata": {},
   "outputs": [
    {
     "name": "stdout",
     "output_type": "stream",
     "text": [
      "Prime Numbers up to 50: [2, 3, 5, 7, 11, 13, 17, 19, 23, 29, 31, 37, 41, 43, 47]\n"
     ]
    }
   ],
   "source": [
    "#Problem 33\n",
    "#   Create a list of prime numbers up to 50.\n",
    "\n",
    "\n",
    "def is_prime(num):\n",
    "    if num < 2:\n",
    "        return False\n",
    "    for i in range(2, int(num**0.5) + 1):\n",
    "        if num % i == 0:\n",
    "            return False\n",
    "    return True\n",
    "\n",
    "\n",
    "prime_numbers_up_to_50 = [num for num in range(2, 51) if is_prime(num)]\n",
    "\n",
    "print(\"Prime Numbers up to 50:\", prime_numbers_up_to_50)\n"
   ]
  },
  {
   "cell_type": "code",
   "execution_count": 45,
   "id": "4651c917-ce56-418f-bf02-fed0916a44a4",
   "metadata": {},
   "outputs": [
    {
     "name": "stdout",
     "output_type": "stream",
     "text": [
      "Original List: [1, 2, 3, 4, 5, 6, 7, 8, 9, 10]\n",
      "Chunks of Size 3: [[1, 2, 3], [4, 5, 6], [7, 8, 9], [10]]\n"
     ]
    }
   ],
   "source": [
    "#Problem 34\n",
    "#   Split a list into chunks of size `n`\n",
    "\n",
    "\n",
    "def split_into_chunks(lst, n):\n",
    "    return [lst[i:i + n] for i in range(0, len(lst), n)]\n",
    "\n",
    "\n",
    "original_list = [1, 2, 3, 4, 5, 6, 7, 8, 9, 10]\n",
    "\n",
    "chunks = split_into_chunks(original_list, 3)\n",
    "\n",
    "print(\"Original List:\", original_list)\n",
    "print(\"Chunks of Size 3:\", chunks)\n"
   ]
  },
  {
   "cell_type": "code",
   "execution_count": 46,
   "id": "4cbc7db1-359f-462d-a7a2-334441d52240",
   "metadata": {},
   "outputs": [
    {
     "name": "stdout",
     "output_type": "stream",
     "text": [
      "Original List: [4, 7, 1, 9, 3, 6]\n",
      "Second Largest Number: 7\n"
     ]
    }
   ],
   "source": [
    "#Problem 35\n",
    "#   Find the second largest number in a list.\n",
    "\n",
    "\n",
    "def second_largest(lst):\n",
    "    sorted_list = sorted(lst, reverse=True)\n",
    "    return sorted_list[1] if len(sorted_list) >= 2 else None\n",
    "\n",
    "\n",
    "my_list = [4, 7, 1, 9, 3, 6]\n",
    "\n",
    "\n",
    "result = second_largest(my_list)\n",
    "\n",
    "print(\"Original List:\", my_list)\n",
    "print(\"Second Largest Number:\", result)\n",
    "\n"
   ]
  },
  {
   "cell_type": "code",
   "execution_count": 47,
   "id": "e7da0727-7b4b-4829-bfbd-939611171ec3",
   "metadata": {},
   "outputs": [
    {
     "name": "stdout",
     "output_type": "stream",
     "text": [
      "Original List: [1, 2, 3, 4, 5]\n",
      "List with Elements Squared: [1, 4, 9, 16, 25]\n"
     ]
    }
   ],
   "source": [
    "#Problem 36\n",
    "#   Replace every element in a list with its square.\n",
    "\n",
    "\n",
    "original_list = [1, 2, 3, 4, 5]\n",
    "\n",
    "\n",
    "squared_list = [element ** 2 for element in original_list]\n",
    "\n",
    "print(\"Original List:\", original_list)\n",
    "print(\"List with Elements Squared:\", squared_list)\n"
   ]
  },
  {
   "cell_type": "code",
   "execution_count": 48,
   "id": "3d536c4e-47f8-49a7-8d4b-540a9537e058",
   "metadata": {},
   "outputs": [
    {
     "name": "stdout",
     "output_type": "stream",
     "text": [
      "Original List: ['apple', 'banana', 'orange']\n",
      "Dictionary: {'apple': 0, 'banana': 1, 'orange': 2}\n"
     ]
    }
   ],
   "source": [
    "#Problem 37\n",
    "#  Convert a list to a dictionary where list elements become keys and their indices become values.\n",
    "\n",
    "\n",
    "\n",
    "my_list = ['apple', 'banana', 'orange']\n",
    "\n",
    "\n",
    "result_dict = {element: index for index, element in enumerate(my_list)}\n",
    "\n",
    "print(\"Original List:\", my_list)\n",
    "print(\"Dictionary:\", result_dict)\n",
    "\n"
   ]
  },
  {
   "cell_type": "code",
   "execution_count": 49,
   "id": "32e6d41d-9f53-42ca-9545-c300dbdde3c1",
   "metadata": {},
   "outputs": [
    {
     "name": "stdout",
     "output_type": "stream",
     "text": [
      "Original List: [3, 4, 5, 1, 2]\n"
     ]
    }
   ],
   "source": [
    "#Problem 38\n",
    "#   Shuffle the elements of a list randomly.\n",
    "\n",
    "\n",
    "import random\n",
    "\n",
    "my_list = [1, 2, 3, 4, 5]\n",
    "\n",
    "random.shuffle(my_list)\n",
    "\n",
    "print(\"Original List:\", my_list)\n",
    "\n"
   ]
  },
  {
   "cell_type": "code",
   "execution_count": 50,
   "id": "ba40203d-b961-40f4-b32a-ff94c04af157",
   "metadata": {},
   "outputs": [
    {
     "name": "stdout",
     "output_type": "stream",
     "text": [
      "First 10 Factorial Numbers: [1, 1, 2, 6, 24, 120, 720, 5040, 40320, 362880]\n"
     ]
    }
   ],
   "source": [
    "#Problem 39\n",
    "#   Create a list of the first 10 factorial numbers.\n",
    "\n",
    "\n",
    "def factorial(n):\n",
    "    if n == 0 or n == 1:\n",
    "        return 1\n",
    "    else:\n",
    "        return n * factorial(n - 1)\n",
    "\n",
    "\n",
    "factorial_numbers = [factorial(i) for i in range(10)]\n",
    "\n",
    "print(\"First 10 Factorial Numbers:\", factorial_numbers)\n"
   ]
  },
  {
   "cell_type": "code",
   "execution_count": 51,
   "id": "42553eee-a5ff-433e-8229-67f537d6549e",
   "metadata": {},
   "outputs": [
    {
     "name": "stdout",
     "output_type": "stream",
     "text": [
      "List 1: [1, 2, 3, 4, 5]\n",
      "List 2: [5, 6, 7, 8, 9]\n",
      "Do the lists have at least one element in common? True\n"
     ]
    }
   ],
   "source": [
    "#Problem 40\n",
    "#   Check if two lists have at least one element in common.\n",
    "\n",
    "\n",
    "list1 = [1, 2, 3, 4, 5]\n",
    "list2 = [5, 6, 7, 8, 9]\n",
    "\n",
    "\n",
    "common_element_exists = any(element in list1 for element in list2)\n",
    "\n",
    "print(\"List 1:\", list1)\n",
    "print(\"List 2:\", list2)\n",
    "print(\"Do the lists have at least one element in common?\", common_element_exists)\n"
   ]
  },
  {
   "cell_type": "code",
   "execution_count": 52,
   "id": "8e131e9b-2470-49cb-b14c-8b2097574821",
   "metadata": {},
   "outputs": [
    {
     "name": "stdout",
     "output_type": "stream",
     "text": [
      "List after clearing: []\n"
     ]
    }
   ],
   "source": [
    "#Problem 41\n",
    "#   Remove all elements from a list.\n",
    "\n",
    "\n",
    "my_list = [1, 2, 3, 4, 5]\n",
    "\n",
    "\n",
    "my_list.clear()\n",
    "\n",
    "print(\"List after clearing:\", my_list)\n"
   ]
  },
  {
   "cell_type": "code",
   "execution_count": 54,
   "id": "2c9145c3-de35-4942-bc6c-8a78268e961f",
   "metadata": {},
   "outputs": [
    {
     "name": "stdout",
     "output_type": "stream",
     "text": [
      "Original List: [1, -2, 3, -4, 5, -6, 7, -8, 9]\n",
      "Modified List: [1, 0, 3, 0, 5, 0, 7, 0, 9]\n"
     ]
    }
   ],
   "source": [
    "#Problem 42\n",
    "#   Replace negative numbers in a list with 0.\n",
    "\n",
    "\n",
    "original_list = [1, -2, 3, -4, 5, -6, 7, -8, 9]\n",
    "\n",
    "\n",
    "modified_list = [max(0, element) for element in original_list]\n",
    "\n",
    "print(\"Original List:\", original_list)\n",
    "print(\"Modified List:\", modified_list)\n",
    "\n"
   ]
  },
  {
   "cell_type": "code",
   "execution_count": 56,
   "id": "a52f5d7b-5e89-48de-9fca-cd5c9b8fcde7",
   "metadata": {},
   "outputs": [
    {
     "name": "stdout",
     "output_type": "stream",
     "text": [
      "Original String: This is a sample sentence.\n",
      "List of Words: ['This', 'is', 'a', 'sample', 'sentence.']\n"
     ]
    }
   ],
   "source": [
    "#Problem 43\n",
    "#   Convert a string into a list of words.\n",
    "\n",
    "\n",
    "\n",
    "sentence = \"This is a sample sentence.\"\n",
    "\n",
    "\n",
    "word_list = sentence.split()\n",
    "\n",
    "print(\"Original String:\", sentence)\n",
    "print(\"List of Words:\", word_list)\n"
   ]
  },
  {
   "cell_type": "code",
   "execution_count": 57,
   "id": "9858bd3e-ff6e-45d8-b091-433db25bc8fd",
   "metadata": {},
   "outputs": [
    {
     "name": "stdout",
     "output_type": "stream",
     "text": [
      "List of Words: ['This', 'is', 'a', 'sample', 'list']\n",
      "Resulting String: This is a sample list\n"
     ]
    }
   ],
   "source": [
    "#Problem 44\n",
    "#   Convert a list of words into a string.\n",
    "\n",
    "\n",
    "word_list = ['This', 'is', 'a', 'sample', 'list']\n",
    "\n",
    "\n",
    "sentence = ' '.join(word_list)\n",
    "\n",
    "print(\"List of Words:\", word_list)\n",
    "print(\"Resulting String:\", sentence)\n",
    "\n"
   ]
  },
  {
   "cell_type": "code",
   "execution_count": 58,
   "id": "cc40c477-76a0-4f9c-b43d-0c007a5b0b45",
   "metadata": {},
   "outputs": [
    {
     "name": "stdout",
     "output_type": "stream",
     "text": [
      "First 5 Powers of 2: [1, 2, 4, 8, 16]\n"
     ]
    }
   ],
   "source": [
    "#Problem 45\n",
    "#   Create a list of the first `n` powers of 2.\n",
    "\n",
    "\n",
    "n = 5 \n",
    "\n",
    "\n",
    "powers_of_2 = [2 ** i for i in range(n)]\n",
    "\n",
    "print(\"First\", n, \"Powers of 2:\", powers_of_2)\n"
   ]
  },
  {
   "cell_type": "code",
   "execution_count": 59,
   "id": "5ce6cc2c-531a-49e1-a639-37c68dc2e64d",
   "metadata": {},
   "outputs": [
    {
     "name": "stdout",
     "output_type": "stream",
     "text": [
      "List of Strings: ['apple', 'banana', 'kiwi', 'strawberry', 'blueberry']\n",
      "Longest String: strawberry\n"
     ]
    }
   ],
   "source": [
    "#Problem 46\n",
    "#  Find the longest string in a list of strings.\n",
    "\n",
    "\n",
    "string_list = ['apple', 'banana', 'kiwi', 'strawberry', 'blueberry']\n",
    "\n",
    "\n",
    "longest_string = max(string_list, key=len)\n",
    "\n",
    "print(\"List of Strings:\", string_list)\n",
    "print(\"Longest String:\", longest_string)\n"
   ]
  },
  {
   "cell_type": "code",
   "execution_count": 61,
   "id": "9747ca3a-dae2-40ad-b361-5eb49c162e03",
   "metadata": {},
   "outputs": [
    {
     "name": "stdout",
     "output_type": "stream",
     "text": [
      "List of Strings: ['apple', 'banana', 'kiwi', 'strawberry', 'blueberry']\n",
      "Shortest String: kiwi\n"
     ]
    }
   ],
   "source": [
    "#Problem 47\n",
    "#  Find the shortest string in a list of strings.\n",
    "\n",
    "\n",
    "string_list = ['apple', 'banana', 'kiwi', 'strawberry', 'blueberry']\n",
    "\n",
    "\n",
    "shortest_string = min(string_list, key=len)\n",
    "\n",
    "print(\"List of Strings:\", string_list)\n",
    "print(\"Shortest String:\", shortest_string)\n"
   ]
  },
  {
   "cell_type": "code",
   "execution_count": 64,
   "id": "b25b9c49-b63d-413f-8e34-6929b1cac341",
   "metadata": {},
   "outputs": [
    {
     "name": "stdout",
     "output_type": "stream",
     "text": [
      "First 5 Triangular Numbers: [1, 3, 6, 10, 15]\n"
     ]
    }
   ],
   "source": [
    "#Problem 48\n",
    "#   Create a list of the first `n` triangular numbers.\n",
    "\n",
    "\n",
    "n = 5  \n",
    "\n",
    "\n",
    "triangular_numbers = []\n",
    "sum_so_far = 0\n",
    "\n",
    "for i in range(1, n + 1):\n",
    "    sum_so_far += i\n",
    "    triangular_numbers.append(sum_so_far)\n",
    "\n",
    "print(\"First\", n, \"Triangular Numbers:\", triangular_numbers)\n"
   ]
  },
  {
   "cell_type": "code",
   "execution_count": 70,
   "id": "325540d3-f21b-4a2d-812d-5146bc9c6368",
   "metadata": {},
   "outputs": [
    {
     "name": "stdout",
     "output_type": "stream",
     "text": [
      "Main List: [1, 2, 3, 4, 5, 6, 7, 8, 9]\n",
      "Subsequence: [3, 5, 8]\n",
      "Is Subsequence? True\n"
     ]
    }
   ],
   "source": [
    "#Problem 49\n",
    "#   Check if a list contains another list as a subsequence.\n",
    "\n",
    "\n",
    "def is_subsequence(subsequence, main_list):\n",
    "    sub_len = len(subsequence)\n",
    "    main_len = len(main_list)\n",
    "\n",
    "    if sub_len > main_len:\n",
    "        return False\n",
    "\n",
    "    sub_index = 0\n",
    "\n",
    "    for element in main_list:\n",
    "        if element == subsequence[sub_index]:\n",
    "            sub_index += 1\n",
    "            if sub_index == sub_len:\n",
    "                return True\n",
    "\n",
    "    return False\n",
    "\n",
    "main_list = [1, 2, 3, 4, 5, 6, 7, 8, 9]\n",
    "subsequence = [3, 5, 8]\n",
    "\n",
    "result = is_subsequence(subsequence, main_list)\n",
    "\n",
    "print(\"Main List:\", main_list)\n",
    "print(\"Subsequence:\", subsequence)\n",
    "print(\"Is Subsequence?\", result)\n"
   ]
  },
  {
   "cell_type": "code",
   "execution_count": 72,
   "id": "ad05b0a8-8e5b-4ebc-91ff-e1a6499c4324",
   "metadata": {},
   "outputs": [
    {
     "name": "stdout",
     "output_type": "stream",
     "text": [
      "Original List: [1, 4, 3, 2, 5]\n"
     ]
    }
   ],
   "source": [
    "#Problem 50\n",
    "#   Swap two elements in a list by their indices.\n",
    "\n",
    "\n",
    "def swap_elements_by_indices(lst, index1, index2):\n",
    "    lst[index1], lst[index2] = lst[index2], lst[index1]\n",
    "\n",
    "\n",
    "my_list = [1, 2, 3, 4, 5]\n",
    "\n",
    "swap_elements_by_indices(my_list, 1, 3)\n",
    "\n",
    "print(\"Original List:\", my_list)\n"
   ]
  },
  {
   "cell_type": "code",
   "execution_count": null,
   "id": "915b33ab-8fc5-4230-a2d8-f734d359d366",
   "metadata": {},
   "outputs": [],
   "source": []
  }
 ],
 "metadata": {
  "kernelspec": {
   "display_name": "Python 3 (ipykernel)",
   "language": "python",
   "name": "python3"
  },
  "language_info": {
   "codemirror_mode": {
    "name": "ipython",
    "version": 3
   },
   "file_extension": ".py",
   "mimetype": "text/x-python",
   "name": "python",
   "nbconvert_exporter": "python",
   "pygments_lexer": "ipython3",
   "version": "3.10.8"
  }
 },
 "nbformat": 4,
 "nbformat_minor": 5
}
