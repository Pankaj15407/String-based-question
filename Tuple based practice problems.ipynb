{
 "cells": [
  {
   "cell_type": "code",
   "execution_count": 1,
   "id": "2866ee50-eea5-4cf4-9034-2b5fdb18822a",
   "metadata": {},
   "outputs": [
    {
     "name": "stdout",
     "output_type": "stream",
     "text": [
      "(1, 2, 3, 4, 5)\n"
     ]
    }
   ],
   "source": [
    "# Problem 1 \n",
    "#   Create a tuple with integers from 1 to 5.\n",
    "\n",
    "\n",
    "my_tuple = (1, 2, 3, 4, 5)\n",
    "print(my_tuple)\n",
    "\n"
   ]
  },
  {
   "cell_type": "code",
   "execution_count": 2,
   "id": "7439b722-8829-4d4c-974c-293979c046c8",
   "metadata": {},
   "outputs": [
    {
     "name": "stdout",
     "output_type": "stream",
     "text": [
      "Original Tuple: (1, 2, 3, 4, 5)\n",
      "Third Element: 3\n"
     ]
    }
   ],
   "source": [
    "# Problem 2\n",
    "#   Access the third element of a tuple\n",
    "\n",
    "\n",
    "my_tuple = (1, 2, 3, 4, 5)\n",
    "\n",
    "\n",
    "third_element = my_tuple[2]\n",
    "\n",
    "print(\"Original Tuple:\", my_tuple)\n",
    "print(\"Third Element:\", third_element)\n"
   ]
  },
  {
   "cell_type": "code",
   "execution_count": 3,
   "id": "dd41ea90-07e8-4f0c-86b4-d9038cf4cd83",
   "metadata": {},
   "outputs": [
    {
     "name": "stdout",
     "output_type": "stream",
     "text": [
      "Original Tuple: (1, 2, 3, 4, 5)\n",
      "Tuple Length: 5\n"
     ]
    }
   ],
   "source": [
    "# Problem 3\n",
    "#   Find the length of a tuple without using the `len()` function.\n",
    "\n",
    "my_tuple = (1, 2, 3, 4, 5)\n",
    "\n",
    "\n",
    "tuple_length = sum(1 for _ in my_tuple)\n",
    "\n",
    "print(\"Original Tuple:\", my_tuple)\n",
    "print(\"Tuple Length:\", tuple_length)\n"
   ]
  },
  {
   "cell_type": "code",
   "execution_count": 4,
   "id": "96f18400-34cd-4e60-8fc5-3b929f8fa3e9",
   "metadata": {},
   "outputs": [
    {
     "name": "stdout",
     "output_type": "stream",
     "text": [
      "Original Tuple: (1, 2, 3, 4, 2, 5, 2)\n",
      "Occurrences of 2: 3\n"
     ]
    }
   ],
   "source": [
    "# Problem 4\n",
    "#   Count the occurrences of an element in a tuple.\n",
    "\n",
    "\n",
    "my_tuple = (1, 2, 3, 4, 2, 5, 2)\n",
    "\n",
    "\n",
    "element_count = my_tuple.count(2)\n",
    "\n",
    "print(\"Original Tuple:\", my_tuple)\n",
    "print(\"Occurrences of 2:\", element_count)\n"
   ]
  },
  {
   "cell_type": "code",
   "execution_count": 6,
   "id": "bbe85b94-71a8-443e-89ad-c9a7bebf3a7a",
   "metadata": {},
   "outputs": [
    {
     "name": "stdout",
     "output_type": "stream",
     "text": [
      "Original Tuple: (1, 2, 3, 4, 2, 5, 2)\n",
      "Index of first occurrence of 2: 1\n"
     ]
    }
   ],
   "source": [
    "# Problem 5\n",
    "#   Find the index of the first occurrence of an element in a tuple.\n",
    "\n",
    "\n",
    "my_tuple = (1, 2, 3, 4, 2, 5, 2)\n",
    "\n",
    "\n",
    "element_index = my_tuple.index(2)\n",
    "\n",
    "print(\"Original Tuple:\", my_tuple)\n",
    "print(\"Index of first occurrence of 2:\", element_index)\n"
   ]
  },
  {
   "cell_type": "code",
   "execution_count": 7,
   "id": "62610694-4fe1-49fb-8c85-34a8717d2647",
   "metadata": {},
   "outputs": [
    {
     "name": "stdout",
     "output_type": "stream",
     "text": [
      "Original Tuple: (1, 2, 3, 4, 5)\n",
      "Does 3 exist in the tuple? True\n"
     ]
    }
   ],
   "source": [
    "# Problem 6\n",
    "#   Check if an element exists in a tuple.\n",
    "\n",
    "my_tuple = (1, 2, 3, 4, 5)\n",
    "\n",
    "\n",
    "element_exists = 3 in my_tuple\n",
    "\n",
    "print(\"Original Tuple:\", my_tuple)\n",
    "print(\"Does 3 exist in the tuple?\", element_exists)\n"
   ]
  },
  {
   "cell_type": "code",
   "execution_count": 8,
   "id": "7e84af19-f84e-4cc0-934f-e69055eb4bb8",
   "metadata": {},
   "outputs": [
    {
     "name": "stdout",
     "output_type": "stream",
     "text": [
      "Original Tuple: (1, 2, 3, 4, 5)\n",
      "Converted List: [1, 2, 3, 4, 5]\n"
     ]
    }
   ],
   "source": [
    "# Problem 7\n",
    "#   Convert a tuple to a list.\n",
    "\n",
    "\n",
    "my_tuple = (1, 2, 3, 4, 5)\n",
    "\n",
    "\n",
    "my_list = list(my_tuple)\n",
    "\n",
    "print(\"Original Tuple:\", my_tuple)\n",
    "print(\"Converted List:\", my_list)\n"
   ]
  },
  {
   "cell_type": "code",
   "execution_count": 11,
   "id": "1bc94f86-0e76-4b14-b251-70a4a15ba111",
   "metadata": {},
   "outputs": [
    {
     "name": "stdout",
     "output_type": "stream",
     "text": [
      "Original List: [1, 2, 3, 4, 5]\n",
      "Converted Tuple: (1, 2, 3, 4, 5)\n"
     ]
    }
   ],
   "source": [
    "# Problem 8\n",
    "# Convert a list to a tuple.\n",
    "\n",
    "\n",
    "my_list = [1, 2, 3, 4, 5]\n",
    "\n",
    "\n",
    "my_tuple = tuple(my_list)\n",
    "\n",
    "print(\"Original List:\", my_list)\n",
    "print(\"Converted Tuple:\", my_tuple)\n"
   ]
  },
  {
   "cell_type": "code",
   "execution_count": 12,
   "id": "f4682954-296b-4873-b7ef-671f5f17aafb",
   "metadata": {},
   "outputs": [
    {
     "name": "stdout",
     "output_type": "stream",
     "text": [
      "Original Tuple: (1, 2, 3)\n",
      "Unpacked Variables: a = 1 , b = 2 , c = 3\n"
     ]
    }
   ],
   "source": [
    "# Problem 9\n",
    "#   Unpack the elements of a tuple into variables.\n",
    "\n",
    "\n",
    "my_tuple = (1, 2, 3)\n",
    "\n",
    "\n",
    "a, b, c = my_tuple\n",
    "\n",
    "print(\"Original Tuple:\", my_tuple)\n",
    "print(\"Unpacked Variables: a =\", a, \", b =\", b, \", c =\", c)\n",
    "\n"
   ]
  },
  {
   "cell_type": "code",
   "execution_count": 13,
   "id": "0c6dbfd5-a691-4af9-aa05-f60c852ac03c",
   "metadata": {},
   "outputs": [
    {
     "name": "stdout",
     "output_type": "stream",
     "text": [
      "Tuple of Even Numbers: (2, 4, 6, 8, 10)\n"
     ]
    }
   ],
   "source": [
    "# Problem 10\n",
    "#  Create a tuple of even numbers from 1 to 10.\n",
    "\n",
    "\n",
    "even_numbers_tuple = tuple(range(2, 11, 2))\n",
    "\n",
    "print(\"Tuple of Even Numbers:\", even_numbers_tuple)\n"
   ]
  },
  {
   "cell_type": "code",
   "execution_count": 14,
   "id": "9d77cfc1-7dfd-4b00-95e6-79134687e3f8",
   "metadata": {},
   "outputs": [
    {
     "name": "stdout",
     "output_type": "stream",
     "text": [
      "Tuple of Odd Numbers: (1, 3, 5, 7, 9)\n"
     ]
    }
   ],
   "source": [
    "# Problem 11\n",
    "#   Create a tuple of odd numbers from 1 to 10.\n",
    "\n",
    "\n",
    "odd_numbers_tuple = tuple(range(1, 11, 2))\n",
    "\n",
    "print(\"Tuple of Odd Numbers:\", odd_numbers_tuple)\n",
    "\n"
   ]
  },
  {
   "cell_type": "code",
   "execution_count": 16,
   "id": "c47ddebf-e2e0-470c-a337-e64618c2c33f",
   "metadata": {},
   "outputs": [
    {
     "name": "stdout",
     "output_type": "stream",
     "text": [
      "Tuple 1: (1, 2, 3)\n",
      "Tuple 2: (4, 5, 6)\n",
      "Concatenated Tuple: (1, 2, 3, 4, 5, 6)\n"
     ]
    }
   ],
   "source": [
    "# Problem 12\n",
    "#  Concatenate two tuples.\n",
    "\n",
    "\n",
    "tuple1 = (1, 2, 3)\n",
    "tuple2 = (4, 5, 6)\n",
    "\n",
    "\n",
    "concatenated_tuple = tuple1 + tuple2\n",
    "\n",
    "print(\"Tuple 1:\", tuple1)\n",
    "print(\"Tuple 2:\", tuple2)\n",
    "print(\"Concatenated Tuple:\", concatenated_tuple)\n"
   ]
  },
  {
   "cell_type": "code",
   "execution_count": 17,
   "id": "ba94b972-2d8d-474a-b759-388cf151357d",
   "metadata": {},
   "outputs": [
    {
     "name": "stdout",
     "output_type": "stream",
     "text": [
      "Original Tuple: (1, 2, 3)\n",
      "Repeated Tuple: (1, 2, 3, 1, 2, 3, 1, 2, 3)\n"
     ]
    }
   ],
   "source": [
    "# Problem 13\n",
    "#   Repeat a tuple three times.\n",
    "\n",
    "\n",
    "original_tuple = (1, 2, 3)\n",
    "\n",
    "\n",
    "repeated_tuple = original_tuple * 3\n",
    "\n",
    "print(\"Original Tuple:\", original_tuple)\n",
    "print(\"Repeated Tuple:\", repeated_tuple)\n"
   ]
  },
  {
   "cell_type": "code",
   "execution_count": 18,
   "id": "c46062cd-44a7-4126-ba35-59a5e6d09775",
   "metadata": {},
   "outputs": [
    {
     "name": "stdout",
     "output_type": "stream",
     "text": [
      "Is the tuple empty? True\n"
     ]
    }
   ],
   "source": [
    "# Problem 14\n",
    "#   Check if a tuple is empty.\n",
    "\n",
    "empty_tuple = ()\n",
    "\n",
    "\n",
    "is_empty = not empty_tuple\n",
    "\n",
    "print(\"Is the tuple empty?\", is_empty)\n"
   ]
  },
  {
   "cell_type": "code",
   "execution_count": 20,
   "id": "f23bf847-141c-47e6-8c51-30ebeb4c1650",
   "metadata": {},
   "outputs": [
    {
     "name": "stdout",
     "output_type": "stream",
     "text": [
      "Nested Tuple: ((1, 2, 3), ('a', 'b', 'c'), (True, False))\n"
     ]
    }
   ],
   "source": [
    "# Problem 15\n",
    "#   Create a nested tuple.\n",
    "\n",
    "nested_tuple = ((1, 2, 3), ('a', 'b', 'c'), (True, False))\n",
    "\n",
    "print(\"Nested Tuple:\", nested_tuple)\n",
    "\n"
   ]
  },
  {
   "cell_type": "code",
   "execution_count": 24,
   "id": "40ff8e91-0dcd-453b-a789-c0ffb78c9b8f",
   "metadata": {},
   "outputs": [
    {
     "name": "stdout",
     "output_type": "stream",
     "text": [
      "Nested Tuple: ((1, 2, 3), ('a', 'b', 'c'), (True, False))\n",
      "First Element of the Nested Tuple: (1, 2, 3)\n"
     ]
    }
   ],
   "source": [
    "# Problem 16\n",
    "#  Access the first element of a nested tuple.\n",
    "\n",
    "nested_tuple = ((1, 2, 3), ('a', 'b', 'c'), (True, False))\n",
    "\n",
    "\n",
    "first_element = nested_tuple[0]\n",
    "\n",
    "print(\"Nested Tuple:\", nested_tuple)\n",
    "print(\"First Element of the Nested Tuple:\", first_element)\n",
    "\n"
   ]
  },
  {
   "cell_type": "code",
   "execution_count": 28,
   "id": "8bf577e6-33a0-4fc5-a4ad-f6770fadcc72",
   "metadata": {},
   "outputs": [],
   "source": [
    "# Problem 17\n",
    "#   Create a tuple with a single element.\n",
    "\n",
    "\n",
    "single_element_tuple = (42, )\n"
   ]
  },
  {
   "cell_type": "code",
   "execution_count": 27,
   "id": "136454cc-2442-40b5-b229-55d8aed10a8b",
   "metadata": {},
   "outputs": [
    {
     "name": "stdout",
     "output_type": "stream",
     "text": [
      "Tuple 1: (1, 2, 3)\n",
      "Tuple 2: (1, 2, 4)\n",
      "Equal: False\n",
      "Not Equal: True\n",
      "Less Than: True\n",
      "Greater Than: False\n"
     ]
    }
   ],
   "source": [
    "# Problem 18\n",
    "#Compare two tuples.\n",
    "\n",
    "tuple1 = (1, 2, 3)\n",
    "tuple2 = (1, 2, 4)\n",
    "\n",
    "\n",
    "result_equal = tuple1 == tuple2\n",
    "result_not_equal = tuple1 != tuple2\n",
    "result_less_than = tuple1 < tuple2\n",
    "result_greater_than = tuple1 > tuple2\n",
    "\n",
    "print(\"Tuple 1:\", tuple1)\n",
    "print(\"Tuple 2:\", tuple2)\n",
    "print(\"Equal:\", result_equal)\n",
    "print(\"Not Equal:\", result_not_equal)\n",
    "print(\"Less Than:\", result_less_than)\n",
    "print(\"Greater Than:\", result_greater_than)\n"
   ]
  },
  {
   "cell_type": "code",
   "execution_count": 30,
   "id": "5f66c467-90d0-4e55-a083-a2c52f13b152",
   "metadata": {},
   "outputs": [],
   "source": [
    "# Problem 19\n",
    "#  Delete a tuple.\n",
    "\n",
    "\n",
    "my_tuple = (1, 2, 3, 4, 5)\n",
    "\n",
    "\n",
    "del my_tuple\n",
    "\n",
    "\n"
   ]
  },
  {
   "cell_type": "code",
   "execution_count": 31,
   "id": "df0263a6-7bc0-4e75-9184-177ea454bf52",
   "metadata": {},
   "outputs": [
    {
     "name": "stdout",
     "output_type": "stream",
     "text": [
      "Original Tuple: (1, 2, 3, 4, 5, 6, 7, 8, 9, 10)\n",
      "Sliced Tuple: (3, 5, 7)\n"
     ]
    }
   ],
   "source": [
    "# Problem 20\n",
    "#  Slice a tuple.\n",
    "\n",
    "\n",
    "my_tuple = (1, 2, 3, 4, 5, 6, 7, 8, 9, 10)\n",
    "\n",
    "\n",
    "sliced_tuple = my_tuple[2:7:2]\n",
    "\n",
    "print(\"Original Tuple:\", my_tuple)\n",
    "print(\"Sliced Tuple:\", sliced_tuple)\n"
   ]
  },
  {
   "cell_type": "code",
   "execution_count": 33,
   "id": "151fff39-8d3e-43dd-ba37-974d54dae1ec",
   "metadata": {},
   "outputs": [
    {
     "name": "stdout",
     "output_type": "stream",
     "text": [
      "Original Tuple: (4, 10, 3, 8, 5)\n",
      "Maximum Value: 10\n"
     ]
    }
   ],
   "source": [
    "# Problem 21\n",
    "#  Find the maximum value in a tuple.\n",
    "\n",
    "\n",
    "my_tuple = (4, 10, 3, 8, 5)\n",
    "\n",
    "\n",
    "max_value = max(my_tuple)\n",
    "\n",
    "print(\"Original Tuple:\", my_tuple)\n",
    "print(\"Maximum Value:\", max_value)\n"
   ]
  },
  {
   "cell_type": "code",
   "execution_count": 34,
   "id": "1c6a1fcc-7fb2-438c-b144-14cfef6e2d9b",
   "metadata": {},
   "outputs": [
    {
     "name": "stdout",
     "output_type": "stream",
     "text": [
      "Original Tuple: (4, 10, 3, 8, 5)\n",
      "Minimum Value: 3\n"
     ]
    }
   ],
   "source": [
    "# Problem 22\n",
    "#  Find the minimum value in a tuple.\n",
    "\n",
    "my_tuple = (4, 10, 3, 8, 5)\n",
    "\n",
    "\n",
    "min_value = min(my_tuple)\n",
    "\n",
    "print(\"Original Tuple:\", my_tuple)\n",
    "print(\"Minimum Value:\", min_value)\n"
   ]
  },
  {
   "cell_type": "code",
   "execution_count": 35,
   "id": "dc2acda1-d7af-4a79-ab2d-ddc6a36065f4",
   "metadata": {},
   "outputs": [
    {
     "name": "stdout",
     "output_type": "stream",
     "text": [
      "Original String: Hello, World!\n",
      "Tuple of Characters: ('H', 'e', 'l', 'l', 'o', ',', ' ', 'W', 'o', 'r', 'l', 'd', '!')\n"
     ]
    }
   ],
   "source": [
    "# Problem 23\n",
    "#  Convert a string to a tuple of characters.\n",
    "\n",
    "\n",
    "my_string = \"Hello, World!\"\n",
    "\n",
    "\n",
    "char_tuple = tuple(my_string)\n",
    "\n",
    "print(\"Original String:\", my_string)\n",
    "print(\"Tuple of Characters:\", char_tuple)\n"
   ]
  },
  {
   "cell_type": "code",
   "execution_count": 36,
   "id": "e39b11fb-7312-4325-af5a-ef0b064186f0",
   "metadata": {},
   "outputs": [
    {
     "name": "stdout",
     "output_type": "stream",
     "text": [
      "Original Tuple: ('H', 'e', 'l', 'l', 'o', ',', ' ', 'W', 'o', 'r', 'l', 'd', '!')\n",
      "Resulting String: Hello, World!\n"
     ]
    }
   ],
   "source": [
    "# Problem 24\n",
    "#  Convert a tuple of characters to a string.\n",
    "\n",
    "\n",
    "char_tuple = ('H', 'e', 'l', 'l', 'o', ',', ' ', 'W', 'o', 'r', 'l', 'd', '!')\n",
    "\n",
    "\n",
    "result_string = \"\".join(char_tuple)\n",
    "\n",
    "print(\"Original Tuple:\", char_tuple)\n",
    "print(\"Resulting String:\", result_string)\n"
   ]
  },
  {
   "cell_type": "code",
   "execution_count": 37,
   "id": "fc502883-3529-4ad4-8841-4e560981e339",
   "metadata": {},
   "outputs": [
    {
     "name": "stdout",
     "output_type": "stream",
     "text": [
      "Mixed Data Types Tuple: (1, 'hello', 3.14, True, [5, 6])\n"
     ]
    }
   ],
   "source": [
    "# Problem 25\n",
    "#  Create a tuple from multiple data types.\n",
    "\n",
    "mixed_tuple = (1, \"hello\", 3.14, True, [5, 6])\n",
    "\n",
    "print(\"Mixed Data Types Tuple:\", mixed_tuple)\n",
    "\n"
   ]
  },
  {
   "cell_type": "code",
   "execution_count": 38,
   "id": "fe3871f1-0b0e-449b-9ed6-ce267b1c50ef",
   "metadata": {},
   "outputs": [
    {
     "name": "stdout",
     "output_type": "stream",
     "text": [
      "Tuple 1: (1, 2, 3)\n",
      "Tuple 2: (1, 2, 3)\n",
      "Are the tuples identical? True\n"
     ]
    }
   ],
   "source": [
    "# Problem 26\n",
    "#   Check if two tuples are identical.\n",
    "\n",
    "\n",
    "tuple1 = (1, 2, 3)\n",
    "tuple2 = (1, 2, 3)\n",
    "\n",
    "\n",
    "are_identical = tuple1 == tuple2\n",
    "\n",
    "print(\"Tuple 1:\", tuple1)\n",
    "print(\"Tuple 2:\", tuple2)\n",
    "print(\"Are the tuples identical?\", are_identical)\n"
   ]
  },
  {
   "cell_type": "code",
   "execution_count": 40,
   "id": "84aed4d7-7bf2-49b4-939b-9012bf1401a9",
   "metadata": {},
   "outputs": [
    {
     "name": "stdout",
     "output_type": "stream",
     "text": [
      "Original Tuple: (3, 1, 4, 1, 5, 9, 2, 6, 5, 3, 5)\n",
      "Sorted Tuple: (1, 1, 2, 3, 3, 4, 5, 5, 5, 6, 9)\n"
     ]
    }
   ],
   "source": [
    "# Problem 27\n",
    "#  Sort the elements of a tuple.\n",
    "\n",
    "\n",
    "original_tuple = (3, 1, 4, 1, 5, 9, 2, 6, 5, 3, 5)\n",
    "\n",
    "\n",
    "sorted_tuple = tuple(sorted(original_tuple))\n",
    "\n",
    "print(\"Original Tuple:\", original_tuple)\n",
    "print(\"Sorted Tuple:\", sorted_tuple)\n"
   ]
  },
  {
   "cell_type": "code",
   "execution_count": 41,
   "id": "a8dfd90f-e28c-407f-86d1-6388df8313dc",
   "metadata": {},
   "outputs": [
    {
     "name": "stdout",
     "output_type": "stream",
     "text": [
      "Original Tuple of Integers: (1, 2, 3, 4, 5)\n",
      "Tuple of Strings: ('1', '2', '3', '4', '5')\n"
     ]
    }
   ],
   "source": [
    "# Problem 28\n",
    "#  Convert a tuple of integers to a tuple of strings.\n",
    "\n",
    "\n",
    "tuple_of_integers = (1, 2, 3, 4, 5)\n",
    "\n",
    "\n",
    "tuple_of_strings = tuple(str(i) for i in tuple_of_integers)\n",
    "\n",
    "print(\"Original Tuple of Integers:\", tuple_of_integers)\n",
    "print(\"Tuple of Strings:\", tuple_of_strings)\n"
   ]
  },
  {
   "cell_type": "code",
   "execution_count": 43,
   "id": "5148e6c9-126b-4c1d-9b34-1f464d7efb87",
   "metadata": {},
   "outputs": [
    {
     "name": "stdout",
     "output_type": "stream",
     "text": [
      "Original Tuple of Strings: ('1', '2', '3', '4', '5')\n",
      "Tuple of Integers: (1, 2, 3, 4, 5)\n"
     ]
    }
   ],
   "source": [
    "# Problem 29\n",
    "#  Convert a tuple of strings to a tuple of integers.\n",
    "\n",
    "\n",
    "tuple_of_strings = ('1', '2', '3', '4', '5')\n",
    "\n",
    "\n",
    "tuple_of_integers = tuple(int(s) for s in tuple_of_strings)\n",
    "\n",
    "print(\"Original Tuple of Strings:\", tuple_of_strings)\n",
    "print(\"Tuple of Integers:\", tuple_of_integers)\n"
   ]
  },
  {
   "cell_type": "code",
   "execution_count": 44,
   "id": "cb702fcd-1675-45d1-849d-5ac97afceb59",
   "metadata": {},
   "outputs": [
    {
     "name": "stdout",
     "output_type": "stream",
     "text": [
      "Tuple 1: (1, 2, 3)\n",
      "Tuple 2: ('a', 'b', 'c')\n",
      "Merged Tuple: (1, 2, 3, 'a', 'b', 'c')\n"
     ]
    }
   ],
   "source": [
    "# Problem 30\n",
    "#  Merge two tuples.\n",
    "\n",
    "\n",
    "tuple1 = (1, 2, 3)\n",
    "tuple2 = ('a', 'b', 'c')\n",
    "\n",
    "\n",
    "merged_tuple = tuple1 + tuple2\n",
    "\n",
    "print(\"Tuple 1:\", tuple1)\n",
    "print(\"Tuple 2:\", tuple2)\n",
    "print(\"Merged Tuple:\", merged_tuple)\n"
   ]
  },
  {
   "cell_type": "code",
   "execution_count": 45,
   "id": "197cdb7c-ed41-4169-ada4-75e4af25f167",
   "metadata": {},
   "outputs": [
    {
     "name": "stdout",
     "output_type": "stream",
     "text": [
      "Nested Tuple: ((1, 2, 3), ('a', 'b', 'c'), (4, 5, 6))\n",
      "Flattened Tuple: (1, 2, 3, 'a', 'b', 'c', 4, 5, 6)\n"
     ]
    }
   ],
   "source": [
    "# Problem 31\n",
    "#  Flatten a nested tuple.\n",
    "\n",
    "\n",
    "def flatten_tuple(nested_tuple):\n",
    "    flat_list = []\n",
    "    for item in nested_tuple:\n",
    "        if isinstance(item, tuple):\n",
    "            flat_list.extend(flatten_tuple(item))\n",
    "        else:\n",
    "            flat_list.append(item)\n",
    "    return tuple(flat_list)\n",
    "\n",
    "\n",
    "nested_tuple = ((1, 2, 3), ('a', 'b', 'c'), (4, 5, 6))\n",
    "flattened_tuple = flatten_tuple(nested_tuple)\n",
    "\n",
    "print(\"Nested Tuple:\", nested_tuple)\n",
    "print(\"Flattened Tuple:\", flattened_tuple)\n"
   ]
  },
  {
   "cell_type": "code",
   "execution_count": 46,
   "id": "c67aeebb-d3b6-4b3b-8eb7-72c83db84371",
   "metadata": {},
   "outputs": [
    {
     "name": "stdout",
     "output_type": "stream",
     "text": [
      "Tuple of the First 5 Prime Numbers: (2, 3, 5, 7, 11)\n"
     ]
    }
   ],
   "source": [
    "# Problem 32\n",
    "#   Create a tuple of the first 5 prime numbers.\n",
    "\n",
    "\n",
    "\n",
    "def is_prime(n):\n",
    "    if n < 2:\n",
    "        return False\n",
    "    for i in range(2, int(n**0.5) + 1):\n",
    "        if n % i == 0:\n",
    "            return False\n",
    "    return True\n",
    "\n",
    "\n",
    "prime_numbers = [i for i in range(2, 20) if is_prime(i)][:5]\n",
    "\n",
    "\n",
    "tuple_of_primes = tuple(prime_numbers)\n",
    "\n",
    "print(\"Tuple of the First 5 Prime Numbers:\", tuple_of_primes)\n"
   ]
  },
  {
   "cell_type": "code",
   "execution_count": 47,
   "id": "ca606132-c46f-4a0d-afce-eea38df53f92",
   "metadata": {},
   "outputs": [
    {
     "name": "stdout",
     "output_type": "stream",
     "text": [
      "Is the Palindrome Tuple a Palindrome? True\n",
      "Is the Non-Palindrome Tuple a Palindrome? False\n"
     ]
    }
   ],
   "source": [
    "# Problem 33\n",
    "#  Check if a tuple is a palindrome.\n",
    "\n",
    "\n",
    "def is_palindrome_tuple(input_tuple):\n",
    "    return input_tuple == input_tuple[::-1]\n",
    "\n",
    "\n",
    "palindrome_tuple = (1, 2, 3, 3, 2, 1)\n",
    "non_palindrome_tuple = (1, 2, 3, 4, 5)\n",
    "\n",
    "print(\"Is the Palindrome Tuple a Palindrome?\", is_palindrome_tuple(palindrome_tuple))\n",
    "print(\"Is the Non-Palindrome Tuple a Palindrome?\", is_palindrome_tuple(non_palindrome_tuple))\n"
   ]
  },
  {
   "cell_type": "code",
   "execution_count": 48,
   "id": "76a5a3cc-8f59-446c-8499-d5d001b2bdf7",
   "metadata": {},
   "outputs": [
    {
     "name": "stdout",
     "output_type": "stream",
     "text": [
      "Tuple of Squares: (1, 4, 9, 16, 25)\n"
     ]
    }
   ],
   "source": [
    "# Problem 34\n",
    "#  Create a tuple of squares of numbers from 1 to 5.\n",
    "\n",
    "\n",
    "squares_tuple = tuple(x**2 for x in range(1, 6))\n",
    "\n",
    "print(\"Tuple of Squares:\", squares_tuple)\n"
   ]
  },
  {
   "cell_type": "code",
   "execution_count": 49,
   "id": "557759aa-e65c-4be0-bd03-e2bc159de8ee",
   "metadata": {},
   "outputs": [
    {
     "name": "stdout",
     "output_type": "stream",
     "text": [
      "Original Tuple: (1, 2, 3, 4, 5, 6, 7, 8, 9, 10)\n",
      "Filtered Tuple (No Even Numbers): (1, 3, 5, 7, 9)\n"
     ]
    }
   ],
   "source": [
    "# Problem 35\n",
    "# Filter out all even numbers from a tuple.\n",
    "\n",
    "\n",
    "\n",
    "original_tuple = (1, 2, 3, 4, 5, 6, 7, 8, 9, 10)\n",
    "\n",
    "\n",
    "filtered_tuple = tuple(x for x in original_tuple if x % 2 != 0)\n",
    "\n",
    "print(\"Original Tuple:\", original_tuple)\n",
    "print(\"Filtered Tuple (No Even Numbers):\", filtered_tuple)\n"
   ]
  },
  {
   "cell_type": "code",
   "execution_count": 50,
   "id": "688bf5f8-c790-4a97-a9ce-6d783c61f922",
   "metadata": {},
   "outputs": [
    {
     "name": "stdout",
     "output_type": "stream",
     "text": [
      "Original Tuple: (1, 2, 3, 4, 5)\n",
      "Multiplied Tuple: (2, 4, 6, 8, 10)\n"
     ]
    }
   ],
   "source": [
    "# Problem 36\n",
    "# Multiply all elements in a tuple by 2.\n",
    "\n",
    "\n",
    "\n",
    "original_tuple = (1, 2, 3, 4, 5)\n",
    "\n",
    "\n",
    "multiplied_tuple = tuple(x * 2 for x in original_tuple)\n",
    "\n",
    "print(\"Original Tuple:\", original_tuple)\n",
    "print(\"Multiplied Tuple:\", multiplied_tuple)\n"
   ]
  },
  {
   "cell_type": "code",
   "execution_count": 51,
   "id": "54fc7eb8-1ae2-485e-8577-e5dd779f1b09",
   "metadata": {},
   "outputs": [
    {
     "name": "stdout",
     "output_type": "stream",
     "text": [
      "Random Tuple: (9, 5, 1, 2, 8)\n"
     ]
    }
   ],
   "source": [
    "# Problem 37\n",
    "# Create a tuple of random numbers.\n",
    "\n",
    "\n",
    "import random\n",
    "\n",
    "\n",
    "random_tuple = tuple(random.randint(1, 10) for _ in range(5))\n",
    "\n",
    "print(\"Random Tuple:\", random_tuple)\n",
    "\n"
   ]
  },
  {
   "cell_type": "code",
   "execution_count": 52,
   "id": "066eaccd-0ff2-4a03-9dba-c231237752a1",
   "metadata": {},
   "outputs": [
    {
     "name": "stdout",
     "output_type": "stream",
     "text": [
      "Is the Sorted Tuple Sorted? True\n",
      "Is the Unsorted Tuple Sorted? False\n"
     ]
    }
   ],
   "source": [
    "# Problem 38\n",
    "#  Check if a tuple is sorted.\n",
    "\n",
    "\n",
    "def is_sorted_tuple(input_tuple):\n",
    "    return all(input_tuple[i] <= input_tuple[i + 1] for i in range(len(input_tuple) - 1))\n",
    "\n",
    "\n",
    "sorted_tuple = (1, 2, 3, 4, 5)\n",
    "unsorted_tuple = (3, 1, 4, 1, 5)\n",
    "\n",
    "print(\"Is the Sorted Tuple Sorted?\", is_sorted_tuple(sorted_tuple))\n",
    "print(\"Is the Unsorted Tuple Sorted?\", is_sorted_tuple(unsorted_tuple))\n",
    "\n"
   ]
  },
  {
   "cell_type": "code",
   "execution_count": 53,
   "id": "76496da5-4a17-4dd5-82bd-9f37afc7e4d7",
   "metadata": {},
   "outputs": [
    {
     "name": "stdout",
     "output_type": "stream",
     "text": [
      "Original Tuple: (1, 2, 3, 4, 5)\n",
      "Rotated Tuple: (3, 4, 5, 1, 2)\n"
     ]
    }
   ],
   "source": [
    "# Problem 39\n",
    "#   Rotate a tuple to the left by `n` positions.\n",
    "\n",
    "\n",
    "def rotate_left_tuple(input_tuple, n):\n",
    "    n = n % len(input_tuple)  # Handle cases where n is larger than the tuple length\n",
    "    return input_tuple[n:] + input_tuple[:n]\n",
    "\n",
    "original_tuple = (1, 2, 3, 4, 5)\n",
    "\n",
    "\n",
    "rotated_tuple = rotate_left_tuple(original_tuple, 2)\n",
    "\n",
    "print(\"Original Tuple:\", original_tuple)\n",
    "print(\"Rotated Tuple:\", rotated_tuple)\n"
   ]
  },
  {
   "cell_type": "code",
   "execution_count": 54,
   "id": "f6a237bb-b3a3-42ae-b79b-e796b8711d1e",
   "metadata": {},
   "outputs": [
    {
     "name": "stdout",
     "output_type": "stream",
     "text": [
      "Original Tuple: (1, 2, 3, 4, 5)\n",
      "Rotated Tuple: (4, 5, 1, 2, 3)\n"
     ]
    }
   ],
   "source": [
    "# Problem 40\n",
    "# Rotate a tuple to the right by `n` positions.\n",
    "\n",
    "\n",
    "def rotate_right_tuple(input_tuple, n):\n",
    "    n = n % len(input_tuple) \n",
    "    return input_tuple[-n:] + input_tuple[:-n]\n",
    "\n",
    "\n",
    "original_tuple = (1, 2, 3, 4, 5)\n",
    "\n",
    "\n",
    "rotated_tuple = rotate_right_tuple(original_tuple, 2)\n",
    "\n",
    "print(\"Original Tuple:\", original_tuple)\n",
    "print(\"Rotated Tuple:\", rotated_tuple)\n"
   ]
  },
  {
   "cell_type": "code",
   "execution_count": 55,
   "id": "d1485a1d-2fed-4d08-9fb9-d5fe4562c8ca",
   "metadata": {},
   "outputs": [
    {
     "name": "stdout",
     "output_type": "stream",
     "text": [
      "Tuple of the First 5 Fibonacci Numbers: (0, 1, 1, 2, 3)\n"
     ]
    }
   ],
   "source": [
    "# Problem 41\n",
    "#  Create a tuple of the first 5 Fibonacci numbers.\n",
    "\n",
    "def generate_fibonacci(n):\n",
    "    fibonacci_tuple = (0, 1)\n",
    "    while len(fibonacci_tuple) < n:\n",
    "        next_fibonacci = fibonacci_tuple[-1] + fibonacci_tuple[-2]\n",
    "        fibonacci_tuple += (next_fibonacci,)\n",
    "    return fibonacci_tuple[:n]\n",
    "\n",
    "first_5_fibonacci = generate_fibonacci(5)\n",
    "\n",
    "print(\"Tuple of the First 5 Fibonacci Numbers:\", first_5_fibonacci)\n",
    "\n"
   ]
  },
  {
   "cell_type": "code",
   "execution_count": 61,
   "id": "9f571b3d-999a-4d11-adc8-6e942816270d",
   "metadata": {},
   "outputs": [
    {
     "name": "stdin",
     "output_type": "stream",
     "text": [
      "Enter values separated by commas:  5,10,15,20\n"
     ]
    },
    {
     "name": "stdout",
     "output_type": "stream",
     "text": [
      "User Input Tuple: (5, 10, 15, 20)\n"
     ]
    }
   ],
   "source": [
    "# Problem 42\n",
    "#  Create a tuple from user input.\n",
    "\n",
    "\n",
    "\n",
    "user_input_str = input(\"Enter values separated by commas: \")\n",
    "\n",
    "\n",
    "input_values = user_input_str.split(',')\n",
    "\n",
    "\n",
    "input_tuple = tuple(map(int, input_values))\n",
    "\n",
    "print(\"User Input Tuple:\", input_tuple)\n"
   ]
  },
  {
   "cell_type": "code",
   "execution_count": 63,
   "id": "b2719653-a3da-4bcd-8cb3-3a9941c509d5",
   "metadata": {},
   "outputs": [
    {
     "name": "stdout",
     "output_type": "stream",
     "text": [
      "Original Tuple: (1, 2, 3, 4, 5)\n",
      "Swapped Tuple: (1, 4, 3, 2, 5)\n"
     ]
    }
   ],
   "source": [
    "# Problem 43\n",
    "# Swap two elements in a tuple.\n",
    "\n",
    "\n",
    "def swap_elements(input_tuple, index1, index2):\n",
    "    \n",
    "    temp_list = list(input_tuple)\n",
    "\n",
    "    \n",
    "    temp_list[index1], temp_list[index2] = temp_list[index2], temp_list[index1]\n",
    "\n",
    "   \n",
    "    swapped_tuple = tuple(temp_list)\n",
    "    \n",
    "    return swapped_tuple\n",
    "\n",
    "\n",
    "original_tuple = (1, 2, 3, 4, 5)\n",
    "\n",
    "\n",
    "swapped_tuple = swap_elements(original_tuple, 1, 3)\n",
    "\n",
    "print(\"Original Tuple:\", original_tuple)\n",
    "print(\"Swapped Tuple:\", swapped_tuple)\n"
   ]
  },
  {
   "cell_type": "code",
   "execution_count": 64,
   "id": "54e0bcbd-fa59-40c7-9b1b-484f58287579",
   "metadata": {},
   "outputs": [
    {
     "name": "stdout",
     "output_type": "stream",
     "text": [
      "Original Tuple: (1, 2, 3, 4, 5)\n",
      "Reversed Tuple: (5, 4, 3, 2, 1)\n"
     ]
    }
   ],
   "source": [
    "# Problem 44\n",
    "#  Reverse the elements of a tuple\n",
    "\n",
    "\n",
    "original_tuple = (1, 2, 3, 4, 5)\n",
    "\n",
    "\n",
    "reversed_tuple = original_tuple[::-1]\n",
    "\n",
    "print(\"Original Tuple:\", original_tuple)\n",
    "print(\"Reversed Tuple:\", reversed_tuple)\n"
   ]
  },
  {
   "cell_type": "code",
   "execution_count": 65,
   "id": "e3056624-d279-4504-81ee-bef74b1adba7",
   "metadata": {},
   "outputs": [
    {
     "name": "stdout",
     "output_type": "stream",
     "text": [
      "Tuple of the First 5 Powers of 2: (1, 2, 4, 8, 16)\n"
     ]
    }
   ],
   "source": [
    "# Problem 45\n",
    "#  Create a tuple of the first `n` powers of 2.\n",
    "\n",
    "\n",
    "\n",
    "def powers_of_two(n):\n",
    "    return tuple(2 ** i for i in range(n))\n",
    "\n",
    "\n",
    "n = 5  # Replace with your desired value\n",
    "powers_tuple = powers_of_two(n)\n",
    "\n",
    "print(f\"Tuple of the First {n} Powers of 2:\", powers_tuple)\n"
   ]
  },
  {
   "cell_type": "code",
   "execution_count": 66,
   "id": "58f97d73-a92e-4fd2-8b39-70c6b843831e",
   "metadata": {},
   "outputs": [
    {
     "name": "stdout",
     "output_type": "stream",
     "text": [
      "Tuple of Strings: ('apple', 'banana', 'orange', 'strawberry', 'kiwi')\n",
      "Longest String: strawberry\n"
     ]
    }
   ],
   "source": [
    "# Problem 46\n",
    "# Find the longest string in a tuple of strings\n",
    "\n",
    "\n",
    "\n",
    "string_tuple = (\"apple\", \"banana\", \"orange\", \"strawberry\", \"kiwi\")\n",
    "\n",
    "\n",
    "longest_string = max(string_tuple, key=len)\n",
    "\n",
    "print(\"Tuple of Strings:\", string_tuple)\n",
    "print(\"Longest String:\", longest_string)\n"
   ]
  },
  {
   "cell_type": "code",
   "execution_count": 67,
   "id": "c1c3d1cd-5700-453b-bddb-39d61965c853",
   "metadata": {},
   "outputs": [
    {
     "name": "stdout",
     "output_type": "stream",
     "text": [
      "Tuple of Strings: ('apple', 'banana', 'orange', 'strawberry', 'kiwi')\n",
      "Shortest String: kiwi\n"
     ]
    }
   ],
   "source": [
    "# Problem 47\n",
    "#  Find the shortest string in a tuple of strings.\n",
    "\n",
    "\n",
    "\n",
    "string_tuple = (\"apple\", \"banana\", \"orange\", \"strawberry\", \"kiwi\")\n",
    "\n",
    "\n",
    "shortest_string = min(string_tuple, key=len)\n",
    "\n",
    "print(\"Tuple of Strings:\", string_tuple)\n",
    "print(\"Shortest String:\", shortest_string)\n",
    "\n"
   ]
  },
  {
   "cell_type": "code",
   "execution_count": 68,
   "id": "7745fc6e-d599-4acd-a44a-f4c1c6084b60",
   "metadata": {},
   "outputs": [
    {
     "name": "stdout",
     "output_type": "stream",
     "text": [
      "Tuple of the First 5 Triangular Numbers: (1, 3, 6, 10, 15)\n"
     ]
    }
   ],
   "source": [
    "# Problem 48\n",
    "#  Create a tuple of the first `n` triangular numbers.\n",
    "\n",
    "\n",
    "\n",
    "def triangular_numbers(n):\n",
    "    return tuple((i * (i + 1)) // 2 for i in range(1, n + 1))\n",
    "\n",
    "\n",
    "n = 5  # Replace with your desired value\n",
    "triangular_tuple = triangular_numbers(n)\n",
    "\n",
    "print(f\"Tuple of the First {n} Triangular Numbers:\", triangular_tuple)\n"
   ]
  },
  {
   "cell_type": "code",
   "execution_count": 69,
   "id": "ee2a401b-157e-4783-91c3-ff4d8dca7d1f",
   "metadata": {},
   "outputs": [
    {
     "name": "stdout",
     "output_type": "stream",
     "text": [
      "Main Tuple: (1, 2, 3, 4, 5, 6, 7, 8, 9)\n",
      "Sub Tuple: (3, 4, 5)\n",
      "Is Sub Tuple a Subsequence? True\n"
     ]
    }
   ],
   "source": [
    "# Problem 49\n",
    "#  Check if a tuple contains another tuple as a subsequence.\n",
    "\n",
    "\n",
    "def is_subsequence(sub, main):\n",
    "    n = len(main)\n",
    "    m = len(sub)\n",
    "\n",
    "    for i in range(n - m + 1):\n",
    "        if main[i:i+m] == sub:\n",
    "            return True\n",
    "\n",
    "    return False\n",
    "\n",
    "\n",
    "main_tuple = (1, 2, 3, 4, 5, 6, 7, 8, 9)\n",
    "sub_tuple = (3, 4, 5)\n",
    "\n",
    "result = is_subsequence(sub_tuple, main_tuple)\n",
    "\n",
    "print(\"Main Tuple:\", main_tuple)\n",
    "print(\"Sub Tuple:\", sub_tuple)\n",
    "print(\"Is Sub Tuple a Subsequence?\", result)\n",
    "\n"
   ]
  },
  {
   "cell_type": "code",
   "execution_count": null,
   "id": "6409c2dc-1dff-4955-b487-3a737351d75a",
   "metadata": {},
   "outputs": [],
   "source": [
    "# Problem 50\n",
    "# Create a tuple of alternating 1s and 0s of length `n`.\n",
    "\n"
   ]
  }
 ],
 "metadata": {
  "kernelspec": {
   "display_name": "Python 3 (ipykernel)",
   "language": "python",
   "name": "python3"
  },
  "language_info": {
   "codemirror_mode": {
    "name": "ipython",
    "version": 3
   },
   "file_extension": ".py",
   "mimetype": "text/x-python",
   "name": "python",
   "nbconvert_exporter": "python",
   "pygments_lexer": "ipython3",
   "version": "3.10.8"
  }
 },
 "nbformat": 4,
 "nbformat_minor": 5
}
