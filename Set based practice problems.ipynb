{
 "cells": [
  {
   "cell_type": "code",
   "execution_count": 2,
   "id": "0fb8138b-3031-402b-ad87-ed7f8fb11db9",
   "metadata": {},
   "outputs": [
    {
     "name": "stdout",
     "output_type": "stream",
     "text": [
      "{1, 2, 3, 4, 5}\n"
     ]
    }
   ],
   "source": [
    "# Problem 1 \n",
    "#  Create a set with integers from 1 to 5.\n",
    "\n",
    "\n",
    "my_set = {1, 2, 3, 4, 5}\n",
    "my_set = set([1, 2, 3, 4, 5])\n",
    "print(my_set)\n",
    "\n"
   ]
  },
  {
   "cell_type": "code",
   "execution_count": 1,
   "id": "bd8658fd-23eb-4a2f-9ee9-a4432690917a",
   "metadata": {},
   "outputs": [
    {
     "name": "stdout",
     "output_type": "stream",
     "text": [
      "{1, 2, 3, 4}\n"
     ]
    }
   ],
   "source": [
    "# Problem 2\n",
    "#  Add an element to a set.\n",
    "\n",
    "\n",
    "my_set = {1, 2, 3}\n",
    "\n",
    "\n",
    "my_set.add(4)\n",
    "\n",
    "\n",
    "print(my_set)\n",
    "\n"
   ]
  },
  {
   "cell_type": "code",
   "execution_count": 2,
   "id": "4ac4eb52-437d-4849-af00-765919db1d26",
   "metadata": {},
   "outputs": [
    {
     "name": "stdout",
     "output_type": "stream",
     "text": [
      "{1, 2, 4, 5}\n",
      "{1, 2, 4}\n"
     ]
    }
   ],
   "source": [
    "# Problem 3\n",
    "#   Remove an element from a set.\n",
    "\n",
    "\n",
    "\n",
    "my_set = {1, 2, 3, 4, 5}\n",
    "\n",
    "\n",
    "my_set.remove(3)\n",
    "print(my_set)\n",
    "\n",
    "my_set.discard(5)\n",
    "print(my_set)\n"
   ]
  },
  {
   "cell_type": "code",
   "execution_count": 3,
   "id": "1bae4dff-d06a-4694-889f-a93bb9660a14",
   "metadata": {},
   "outputs": [
    {
     "name": "stdout",
     "output_type": "stream",
     "text": [
      "3 exists in the set.\n"
     ]
    }
   ],
   "source": [
    "# Problem 4\n",
    "#   Check if an element exists in a set.\n",
    "\n",
    "\n",
    "\n",
    "my_set = {1, 2, 3, 4, 5}\n",
    "\n",
    "\n",
    "element_to_check = 3\n",
    "if element_to_check in my_set:\n",
    "    print(f\"{element_to_check} exists in the set.\")\n",
    "else:\n",
    "    print(f\"{element_to_check} does not exist in the set.\")\n"
   ]
  },
  {
   "cell_type": "code",
   "execution_count": 4,
   "id": "39c7a2ec-97e6-4e3d-a6e7-823a7f889690",
   "metadata": {},
   "outputs": [
    {
     "name": "stdout",
     "output_type": "stream",
     "text": [
      "Length of the set: 5\n"
     ]
    }
   ],
   "source": [
    "# Problem 5\n",
    "#   Find the length of a set without using the `len()` function.\n",
    "\n",
    "\n",
    "\n",
    "my_set = {1, 2, 3, 4, 5}\n",
    "\n",
    "\n",
    "length = 0\n",
    "\n",
    "\n",
    "for _ in my_set:\n",
    "    length += 1\n",
    "\n",
    "print(\"Length of the set:\", length)\n",
    "\n"
   ]
  },
  {
   "cell_type": "code",
   "execution_count": 5,
   "id": "e26670dc-ff5f-4f10-9673-a020855a9c33",
   "metadata": {},
   "outputs": [
    {
     "name": "stdout",
     "output_type": "stream",
     "text": [
      "Set after clearing: set()\n"
     ]
    }
   ],
   "source": [
    "# Problem 6\n",
    "# Clear all elements from a set.\n",
    "\n",
    "my_set = {1, 2, 3, 4, 5}\n",
    "\n",
    "\n",
    "my_set.clear()\n",
    "\n",
    "\n",
    "print(\"Set after clearing:\", my_set)\n",
    "\n"
   ]
  },
  {
   "cell_type": "code",
   "execution_count": 9,
   "id": "4d561ac7-9c2c-4e8a-8cb9-45fe03471e52",
   "metadata": {},
   "outputs": [
    {
     "name": "stdout",
     "output_type": "stream",
     "text": [
      "{2, 4, 6, 8, 10}\n"
     ]
    }
   ],
   "source": [
    "# Problem 7\n",
    "#  Create a set of even numbers from 1 to 10.\n",
    "\n",
    "\n",
    "\n",
    "even_numbers_set = {x for x in range(1, 11) if x % 2 == 0}\n",
    "\n",
    "print(even_numbers_set)\n"
   ]
  },
  {
   "cell_type": "code",
   "execution_count": 10,
   "id": "a847f946-742d-4c90-899b-97537d062cd9",
   "metadata": {},
   "outputs": [
    {
     "name": "stdout",
     "output_type": "stream",
     "text": [
      "{1, 3, 5, 7, 9}\n"
     ]
    }
   ],
   "source": [
    "# Problem 8\n",
    "#   Create a set of odd numbers from 1 to 10.\n",
    "\n",
    "\n",
    "odd_numbers_set = {x for x in range(1, 11) if x % 2 != 0}\n",
    "\n",
    "\n",
    "print(odd_numbers_set)\n",
    "\n"
   ]
  },
  {
   "cell_type": "code",
   "execution_count": 13,
   "id": "71d4ecfc-e773-47d8-925f-bb4314d89d92",
   "metadata": {},
   "outputs": [
    {
     "name": "stdout",
     "output_type": "stream",
     "text": [
      "Union using union() method: {1, 2, 3, 4, 5, 6, 7}\n",
      "Union using | operator: {1, 2, 3, 4, 5, 6, 7}\n"
     ]
    }
   ],
   "source": [
    "# Problem 9\n",
    "#   Find the union of two sets.\n",
    "\n",
    "\n",
    "set1 = {1, 2, 3, 4, 5}\n",
    "set2 = {3, 4, 5, 6, 7}\n",
    "\n",
    "\n",
    "union_set_method = set1.union(set2)\n",
    "print(\"Union using union() method:\", union_set_method)\n",
    "\n",
    "\n",
    "union_set_operator = set1 | set2\n",
    "print(\"Union using | operator:\", union_set_operator)\n"
   ]
  },
  {
   "cell_type": "code",
   "execution_count": 14,
   "id": "5ecc85ef-8c1c-4bdb-bd09-e9c452e8c8e2",
   "metadata": {},
   "outputs": [
    {
     "name": "stdout",
     "output_type": "stream",
     "text": [
      "Intersection using intersection() method: {3, 4, 5}\n",
      "Intersection using & operator: {3, 4, 5}\n"
     ]
    }
   ],
   "source": [
    "# Problem 10\n",
    "#   Find the intersection of two sets.\n",
    "\n",
    "\n",
    "\n",
    "set1 = {1, 2, 3, 4, 5}\n",
    "set2 = {3, 4, 5, 6, 7}\n",
    "\n",
    "\n",
    "intersection_set_method = set1.intersection(set2)\n",
    "print(\"Intersection using intersection() method:\", intersection_set_method)\n",
    "\n",
    "\n",
    "intersection_set_operator = set1 & set2\n",
    "print(\"Intersection using & operator:\", intersection_set_operator)\n"
   ]
  },
  {
   "cell_type": "code",
   "execution_count": 15,
   "id": "5b6ed54d-daef-4583-b8b8-5619180d98ef",
   "metadata": {},
   "outputs": [
    {
     "name": "stdout",
     "output_type": "stream",
     "text": [
      "Difference using difference() method: {1, 2}\n",
      "Difference using - operator: {1, 2}\n"
     ]
    }
   ],
   "source": [
    "# Problem 11\n",
    "#  Find the difference between two sets.\n",
    "\n",
    "\n",
    "\n",
    "set1 = {1, 2, 3, 4, 5}\n",
    "set2 = {3, 4, 5, 6, 7}\n",
    "\n",
    "\n",
    "difference_set_method = set1.difference(set2)\n",
    "print(\"Difference using difference() method:\", difference_set_method)\n",
    "\n",
    "difference_set_operator = set1 - set2\n",
    "print(\"Difference using - operator:\", difference_set_operator)\n"
   ]
  },
  {
   "cell_type": "code",
   "execution_count": 16,
   "id": "5703ec6a-510a-4b89-96bc-03bba06ff9b7",
   "metadata": {},
   "outputs": [
    {
     "name": "stdout",
     "output_type": "stream",
     "text": [
      "set2 is a subset of set1.\n"
     ]
    }
   ],
   "source": [
    "# Problem 12\n",
    "#  Check if a set is a subset of another set.\n",
    "\n",
    "\n",
    "set1 = {1, 2, 3, 4, 5}\n",
    "set2 = {2, 4}\n",
    "\n",
    "\n",
    "is_subset = set2.issubset(set1)\n",
    "\n",
    "\n",
    "if is_subset:\n",
    "    print(\"set2 is a subset of set1.\")\n",
    "else:\n",
    "    print(\"set2 is not a subset of set1.\")\n"
   ]
  },
  {
   "cell_type": "code",
   "execution_count": 17,
   "id": "6f798309-5ede-4b57-bf82-8c1aab467470",
   "metadata": {},
   "outputs": [
    {
     "name": "stdout",
     "output_type": "stream",
     "text": [
      "set1 is a superset of set2.\n"
     ]
    }
   ],
   "source": [
    "# Problem 13\n",
    "#   Check if a set is a superset of another set.\n",
    "\n",
    "\n",
    "\n",
    "set1 = {1, 2, 3, 4, 5}\n",
    "set2 = {2, 4}\n",
    "\n",
    "\n",
    "is_superset = set1.issuperset(set2)\n",
    "\n",
    "\n",
    "if is_superset:\n",
    "    print(\"set1 is a superset of set2.\")\n",
    "else:\n",
    "    print(\"set1 is not a superset of set2.\")\n"
   ]
  },
  {
   "cell_type": "code",
   "execution_count": 18,
   "id": "b8014fc3-ed49-45e5-871d-658b38ccb974",
   "metadata": {},
   "outputs": [
    {
     "name": "stdout",
     "output_type": "stream",
     "text": [
      "{1, 2, 3, 4, 5}\n"
     ]
    }
   ],
   "source": [
    "# Problem 14\n",
    "# Create a set from a list.\n",
    "\n",
    "\n",
    "\n",
    "my_list = [1, 2, 3, 4, 5]\n",
    "\n",
    "my_set = set(my_list)\n",
    "\n",
    "print(my_set)\n"
   ]
  },
  {
   "cell_type": "code",
   "execution_count": 19,
   "id": "07a9952b-3933-4e62-bea6-ff43cbc67c2a",
   "metadata": {},
   "outputs": [
    {
     "name": "stdout",
     "output_type": "stream",
     "text": [
      "[1, 2, 3, 4, 5]\n"
     ]
    }
   ],
   "source": [
    "# Problem 15\n",
    "#  Convert a set to a list.\n",
    "\n",
    "\n",
    "my_set = {1, 2, 3, 4, 5}\n",
    "\n",
    "\n",
    "my_list = list(my_set)\n",
    "\n",
    "\n",
    "print(my_list)\n"
   ]
  },
  {
   "cell_type": "code",
   "execution_count": 23,
   "id": "862b19d6-2f15-44da-9ea8-22846e4fe089",
   "metadata": {},
   "outputs": [
    {
     "name": "stdout",
     "output_type": "stream",
     "text": [
      "Removed element: 1\n",
      "Set after removal: {2, 3, 4, 5}\n"
     ]
    }
   ],
   "source": [
    "# Problem 16\n",
    "#  Remove a random element from a set.\n",
    "\n",
    "\n",
    "\n",
    "my_set = {1, 2, 3, 4, 5}\n",
    "\n",
    "\n",
    "removed_element = my_set.pop()\n",
    "\n",
    "\n",
    "print(\"Removed element:\", removed_element)\n",
    "print(\"Set after removal:\", my_set)\n",
    "\n",
    "\n"
   ]
  },
  {
   "cell_type": "code",
   "execution_count": 26,
   "id": "0b67dd22-459a-4acd-963c-a95c2003019c",
   "metadata": {},
   "outputs": [
    {
     "name": "stdout",
     "output_type": "stream",
     "text": [
      "Popped element: 1\n",
      "Set after pop: {2, 3, 4, 5, 6, 7}\n"
     ]
    }
   ],
   "source": [
    "# Problem 17\n",
    "#  Pop an element from a set.\n",
    "\n",
    "\n",
    "my_set = {1, 2, 3, 4, 5, 6, 7}\n",
    "\n",
    "\n",
    "popped_element = my_set.pop()\n",
    "\n",
    "print(\"Popped element:\", popped_element)\n",
    "print(\"Set after pop:\", my_set)\n"
   ]
  },
  {
   "cell_type": "code",
   "execution_count": 27,
   "id": "dcb187e8-271a-4375-86c9-fcd09cf0191d",
   "metadata": {},
   "outputs": [
    {
     "name": "stdout",
     "output_type": "stream",
     "text": [
      "The sets have no elements in common.\n"
     ]
    }
   ],
   "source": [
    "# Problem 18\n",
    "#  Check if two sets have no elements in common\n",
    "\n",
    "\n",
    "set1 = {1, 2, 3, 4, 5}\n",
    "set2 = {6, 7, 8, 9, 10}\n",
    "\n",
    "\n",
    "are_disjoint = set1.isdisjoint(set2)\n",
    "\n",
    "\n",
    "if are_disjoint:\n",
    "    print(\"The sets have no elements in common.\")\n",
    "else:\n",
    "    print(\"The sets have elements in common.\")\n"
   ]
  },
  {
   "cell_type": "code",
   "execution_count": 28,
   "id": "53a8916c-1573-4228-9e46-6d0200d7737b",
   "metadata": {},
   "outputs": [
    {
     "name": "stdout",
     "output_type": "stream",
     "text": [
      "Symmetric difference using symmetric_difference() method: {1, 2, 3, 6, 7, 8}\n",
      "Symmetric difference using ^ operator: {1, 2, 3, 6, 7, 8}\n"
     ]
    }
   ],
   "source": [
    "# Problem 19\n",
    "# Find the symmetric difference between two sets.\n",
    "\n",
    "\n",
    "# Create two sets\n",
    "set1 = {1, 2, 3, 4, 5}\n",
    "set2 = {4, 5, 6, 7, 8}\n",
    "\n",
    "\n",
    "symmetric_diff_method = set1.symmetric_difference(set2)\n",
    "print(\"Symmetric difference using symmetric_difference() method:\", symmetric_diff_method)\n",
    "\n",
    "\n",
    "symmetric_diff_operator = set1 ^ set2\n",
    "print(\"Symmetric difference using ^ operator:\", symmetric_diff_operator)\n"
   ]
  },
  {
   "cell_type": "code",
   "execution_count": 29,
   "id": "980b0b94-40d6-4f9f-b57a-925fd1e60429",
   "metadata": {},
   "outputs": [
    {
     "name": "stdout",
     "output_type": "stream",
     "text": [
      "Set1 after updating with set2 using update() method: {1, 2, 3, 4, 5, 6, 7, 8}\n",
      "Set1 after updating with set2 using |= operator: {1, 2, 3, 4, 5, 6, 7, 8}\n"
     ]
    }
   ],
   "source": [
    "# Problem 20\n",
    "#  Update a set with elements from another set.\n",
    "\n",
    "\n",
    "set1 = {1, 2, 3, 4, 5}\n",
    "set2 = {4, 5, 6, 7, 8}\n",
    "\n",
    "\n",
    "set1.update(set2)\n",
    "print(\"Set1 after updating with set2 using update() method:\", set1)\n",
    "\n",
    "\n",
    "set1 = {1, 2, 3, 4, 5}\n",
    "set2 = {4, 5, 6, 7, 8}\n",
    "\n",
    "\n",
    "set1 |= set2\n",
    "print(\"Set1 after updating with set2 using |= operator:\", set1)\n"
   ]
  },
  {
   "cell_type": "code",
   "execution_count": 31,
   "id": "34a9d8ca-73e3-46dd-9c1b-a3abb89b1947",
   "metadata": {},
   "outputs": [
    {
     "name": "stdout",
     "output_type": "stream",
     "text": [
      "Set of the first 5 prime numbers: {2, 3, 5, 7, 11, 13, 17, 19}\n"
     ]
    }
   ],
   "source": [
    "# Problem 21\n",
    "#   Create a set of the first 5 prime numbers.\n",
    "\n",
    "\n",
    "\n",
    "def is_prime(num):\n",
    "    if num < 2:\n",
    "        return False\n",
    "    for i in range(2, int(num**0.5) + 1):\n",
    "        if num % i == 0:\n",
    "            return False\n",
    "    return True\n",
    "\n",
    "\n",
    "prime_set = {num for num in range(2, 20) if is_prime(num)}\n",
    "\n",
    "\n",
    "print(\"Set of the first 5 prime numbers:\", prime_set)\n"
   ]
  },
  {
   "cell_type": "code",
   "execution_count": 32,
   "id": "0c420358-db64-4be6-901e-d4d65361a54f",
   "metadata": {},
   "outputs": [
    {
     "name": "stdout",
     "output_type": "stream",
     "text": [
      "Sets are identical using == operator: True\n",
      "Sets are identical using issubset() and issuperset(): True\n"
     ]
    }
   ],
   "source": [
    "# Problem 22\n",
    "# Check if two sets are identical.\n",
    "\n",
    "\n",
    "set1 = {1, 2, 3, 4, 5}\n",
    "set2 = {5, 4, 3, 2, 1}\n",
    "\n",
    "\n",
    "are_identical_operator = set1 == set2\n",
    "print(\"Sets are identical using == operator:\", are_identical_operator)\n",
    "\n",
    "\n",
    "are_identical_methods = set1.issubset(set2) and set2.issubset(set1)\n",
    "print(\"Sets are identical using issubset() and issuperset():\", are_identical_methods)\n"
   ]
  },
  {
   "cell_type": "code",
   "execution_count": 35,
   "id": "8997cb44-e0f6-4541-b32e-f85d50334f59",
   "metadata": {},
   "outputs": [
    {
     "name": "stdout",
     "output_type": "stream",
     "text": [
      "Frozen set: frozenset({1, 2, 3, 4, 5})\n"
     ]
    }
   ],
   "source": [
    "# Problem 23\n",
    "#  Create a frozen set\n",
    "\n",
    "\n",
    "\n",
    "my_set = {1, 2, 3, 4, 5}\n",
    "\n",
    "\n",
    "my_frozen_set = frozenset(my_set)\n",
    "\n",
    "\n",
    "print(\"Frozen set:\", my_frozen_set)\n"
   ]
  },
  {
   "cell_type": "code",
   "execution_count": 36,
   "id": "af9d362b-3f0d-4210-ae8d-ff1713a8021d",
   "metadata": {},
   "outputs": [
    {
     "name": "stdout",
     "output_type": "stream",
     "text": [
      "The sets are disjoint (have no elements in common).\n"
     ]
    }
   ],
   "source": [
    "# Problem 24\n",
    "#  Check if a set is disjoint with another set.\n",
    "\n",
    "\n",
    "\n",
    "set1 = {1, 2, 3, 4, 5}\n",
    "set2 = {6, 7, 8, 9, 10}\n",
    "\n",
    "\n",
    "are_disjoint = set1.isdisjoint(set2)\n",
    "\n",
    "\n",
    "if are_disjoint:\n",
    "    print(\"The sets are disjoint (have no elements in common).\")\n",
    "else:\n",
    "    print(\"The sets are not disjoint (have elements in common).\")\n"
   ]
  },
  {
   "cell_type": "code",
   "execution_count": 37,
   "id": "31f17615-3c4b-41db-af3e-98b8ad1b638f",
   "metadata": {},
   "outputs": [
    {
     "name": "stdout",
     "output_type": "stream",
     "text": [
      "{1, 4, 9, 16, 25}\n"
     ]
    }
   ],
   "source": [
    "# Problem 25\n",
    "#  Create a set of squares of numbers from 1 to 5.\n",
    "\n",
    "\n",
    "\n",
    "squares_set = {x**2 for x in range(1, 6)}\n",
    "\n",
    "\n",
    "print(squares_set)\n"
   ]
  },
  {
   "cell_type": "code",
   "execution_count": 39,
   "id": "02158561-acf0-43f9-be4c-746ce1334a2f",
   "metadata": {},
   "outputs": [
    {
     "name": "stdout",
     "output_type": "stream",
     "text": [
      "{1, 3, 5, 7, 9}\n"
     ]
    }
   ],
   "source": [
    "# Problem 26\n",
    "# Filter out all even numbers from a set.\n",
    "\n",
    "\n",
    "\n",
    "original_set = {1, 2, 3, 4, 5, 6, 7, 8, 9, 10}\n",
    "\n",
    "\n",
    "filtered_set = {x for x in original_set if x % 2 != 0}\n",
    "\n",
    "\n",
    "print(filtered_set)\n"
   ]
  },
  {
   "cell_type": "code",
   "execution_count": 40,
   "id": "8eed8faf-5d98-4397-9250-8eb3c6db0ead",
   "metadata": {},
   "outputs": [
    {
     "name": "stdout",
     "output_type": "stream",
     "text": [
      "{2, 4, 6, 8, 10}\n"
     ]
    }
   ],
   "source": [
    "# Problem 27\n",
    "#   Multiply all elements in a set by 2.\n",
    "\n",
    "\n",
    "\n",
    "original_set = {1, 2, 3, 4, 5}\n",
    "\n",
    "\n",
    "doubled_set = {x * 2 for x in original_set}\n",
    "\n",
    "\n",
    "print(doubled_set)\n"
   ]
  },
  {
   "cell_type": "code",
   "execution_count": 41,
   "id": "79fad2cb-173d-43f5-bf5e-8587de1309ae",
   "metadata": {},
   "outputs": [
    {
     "name": "stdout",
     "output_type": "stream",
     "text": [
      "{4, 36, 15, 82, 95}\n"
     ]
    }
   ],
   "source": [
    "# Problem 28\n",
    "#  Create a set of random numbers.\n",
    "\n",
    "\n",
    "import random\n",
    "\n",
    "\n",
    "random.seed(42)\n",
    "\n",
    "\n",
    "random_set = {random.randint(1, 100) for _ in range(5)}\n",
    "\n",
    "\n",
    "print(random_set)\n"
   ]
  },
  {
   "cell_type": "code",
   "execution_count": 42,
   "id": "219ac68d-9af5-46f8-8162-ebf55530f394",
   "metadata": {},
   "outputs": [
    {
     "name": "stdout",
     "output_type": "stream",
     "text": [
      "The set is empty.\n"
     ]
    }
   ],
   "source": [
    "# Problem 29\n",
    "# Check if a set is empty.\n",
    "\n",
    "\n",
    "\n",
    "my_set = set()\n",
    "\n",
    "\n",
    "if len(my_set) == 0:\n",
    "    print(\"The set is empty.\")\n",
    "else:\n",
    "    print(\"The set is not empty.\")\n"
   ]
  },
  {
   "cell_type": "code",
   "execution_count": 44,
   "id": "88c76c79-9abe-4ae0-875f-11b718b21d2d",
   "metadata": {},
   "outputs": [
    {
     "name": "stdout",
     "output_type": "stream",
     "text": [
      "{frozenset({3, 4, 5}), frozenset({8, 6, 7}), frozenset({1, 2})}\n"
     ]
    }
   ],
   "source": [
    "# Problem 30\n",
    "# Create a nested set (hint: use frozenset).\n",
    "\n",
    "\n",
    "\n",
    "nested_set = {frozenset({1, 2}), frozenset({3, 4, 5}), frozenset({6, 7, 8})}\n",
    "\n",
    "\n",
    "print(nested_set)\n",
    "\n"
   ]
  },
  {
   "cell_type": "code",
   "execution_count": 46,
   "id": "7b3414de-695c-4c91-8f1c-78f60b208621",
   "metadata": {},
   "outputs": [
    {
     "name": "stdout",
     "output_type": "stream",
     "text": [
      "Set after removing element: {1, 2, 4, 5}\n"
     ]
    }
   ],
   "source": [
    "# Problem 31\n",
    "#  Remove an element from a set using the discard method.\n",
    "\n",
    "\n",
    "\n",
    "\n",
    "my_set = {1, 2, 3, 4, 5}\n",
    "\n",
    "\n",
    "my_set.discard(3)\n",
    "\n",
    "print(\"Set after removing element:\", my_set)\n"
   ]
  },
  {
   "cell_type": "code",
   "execution_count": 48,
   "id": "57bb6136-e52d-4b7d-8722-f5960fb58efb",
   "metadata": {},
   "outputs": [
    {
     "name": "stdout",
     "output_type": "stream",
     "text": [
      "The sets are equal.\n"
     ]
    }
   ],
   "source": [
    "# Problem 32\n",
    "#  Compare two sets.\n",
    "\n",
    "\n",
    "set1 = {1, 2, 3, 4, 5}\n",
    "set2 = {5, 4, 3, 2, 1}\n",
    "\n",
    "if set1 == set2:\n",
    "    print(\"The sets are equal.\")\n",
    "else:\n",
    "    print(\"The sets are not equal.\")\n"
   ]
  },
  {
   "cell_type": "code",
   "execution_count": 49,
   "id": "78fc2318-d6fd-47d1-bb02-4e3bf4d482ce",
   "metadata": {},
   "outputs": [
    {
     "name": "stdout",
     "output_type": "stream",
     "text": [
      "{'e', 'o', 'l', 'h'}\n"
     ]
    }
   ],
   "source": [
    "# Problem 33\n",
    "# Create a set from a string.\n",
    "\n",
    "\n",
    "\n",
    "my_string = \"hello\"\n",
    "\n",
    "\n",
    "my_set = set(my_string)\n",
    "\n",
    "\n",
    "print(my_set)\n"
   ]
  },
  {
   "cell_type": "code",
   "execution_count": 50,
   "id": "fcb766dd-dafa-4a0e-bad1-9cc326b51431",
   "metadata": {},
   "outputs": [
    {
     "name": "stdout",
     "output_type": "stream",
     "text": [
      "{1, 2, 3, 4, 5}\n"
     ]
    }
   ],
   "source": [
    "# Problem 34\n",
    "#   Convert a set of strings to a set of integers.\n",
    "\n",
    "\n",
    "string_set = {'1', '2', '3', '4', '5'}\n",
    "\n",
    "\n",
    "integer_set = {int(element) for element in string_set}\n",
    "\n",
    "print(integer_set)\n"
   ]
  },
  {
   "cell_type": "code",
   "execution_count": 51,
   "id": "239fbb2b-f9e3-4075-ae87-2d23349c3804",
   "metadata": {},
   "outputs": [
    {
     "name": "stdout",
     "output_type": "stream",
     "text": [
      "{'1', '3', '4', '5', '2'}\n"
     ]
    }
   ],
   "source": [
    "# Problem 35\n",
    "#  Convert a set of integers to a set of strings.\n",
    "\n",
    "\n",
    "integer_set = {1, 2, 3, 4, 5}\n",
    "\n",
    "\n",
    "string_set = {str(element) for element in integer_set}\n",
    "\n",
    "print(string_set)\n"
   ]
  },
  {
   "cell_type": "code",
   "execution_count": 52,
   "id": "3788f502-6037-425f-a7b0-33c15a89a6be",
   "metadata": {},
   "outputs": [
    {
     "name": "stdout",
     "output_type": "stream",
     "text": [
      "{1, 2, 3, 4, 5}\n"
     ]
    }
   ],
   "source": [
    "# Problem 36\n",
    "#  Create a set from a tuple.\n",
    "\n",
    "\n",
    "\n",
    "my_tuple = (1, 2, 3, 4, 5)\n",
    "\n",
    "\n",
    "my_set = set(my_tuple)\n",
    "\n",
    "print(my_set)\n",
    "\n"
   ]
  },
  {
   "cell_type": "code",
   "execution_count": 54,
   "id": "c3db6cc3-5f53-4cc0-b5b9-055c77d1a780",
   "metadata": {},
   "outputs": [
    {
     "name": "stdout",
     "output_type": "stream",
     "text": [
      "(1, 2, 3, 4, 5, 6, 7)\n"
     ]
    }
   ],
   "source": [
    "# Problem 37\n",
    "#  Convert a set to a tuple.\n",
    "\n",
    "\n",
    "\n",
    "my_set = {1, 2, 3, 4, 5, 6, 7}\n",
    "\n",
    "\n",
    "my_tuple = tuple(my_set)\n",
    "\n",
    "print(my_tuple)\n"
   ]
  },
  {
   "cell_type": "code",
   "execution_count": 55,
   "id": "e57aab08-b040-4caf-916d-85768e3ab2cf",
   "metadata": {},
   "outputs": [
    {
     "name": "stdout",
     "output_type": "stream",
     "text": [
      "Maximum value in the set: 20\n"
     ]
    }
   ],
   "source": [
    "# Problem 38\n",
    "#  Find the maximum value in a set\n",
    "\n",
    "\n",
    "\n",
    "my_set = {10, 5, 8, 20, 15}\n",
    "\n",
    "\n",
    "max_value = max(my_set)\n",
    "\n",
    "\n",
    "print(\"Maximum value in the set:\", max_value)\n"
   ]
  },
  {
   "cell_type": "code",
   "execution_count": 56,
   "id": "613b0848-5f5e-45f5-b1ea-56dafe734335",
   "metadata": {},
   "outputs": [
    {
     "name": "stdout",
     "output_type": "stream",
     "text": [
      "Minimum value in the set: 5\n"
     ]
    }
   ],
   "source": [
    "# Problem 39\n",
    "# Find the minimum value in a set.\n",
    "\n",
    "\n",
    "\n",
    "my_set = {10, 5, 8, 20, 15}\n",
    "\n",
    "\n",
    "min_value = min(my_set)\n",
    "\n",
    "print(\"Minimum value in the set:\", min_value)\n",
    "\n"
   ]
  },
  {
   "cell_type": "code",
   "execution_count": 57,
   "id": "664f6257-82e4-4712-9525-2e2625e67b95",
   "metadata": {},
   "outputs": [
    {
     "name": "stdin",
     "output_type": "stream",
     "text": [
      "Enter elements separated by commas:  1,2,3,4,5,6,7\n"
     ]
    },
    {
     "name": "stdout",
     "output_type": "stream",
     "text": [
      "Set created from user input: {'1', '3', '4', '6', '5', '7', '2'}\n"
     ]
    }
   ],
   "source": [
    "# Problem 40\n",
    "#  Create a set from user input.\n",
    "\n",
    "\n",
    "\n",
    "user_input_str = input(\"Enter elements separated by commas: \")\n",
    "\n",
    "\n",
    "elements_list = user_input_str.split(',')\n",
    "\n",
    "\n",
    "user_set = set(elements_list)\n",
    "\n",
    "\n",
    "print(\"Set created from user input:\", user_set)\n",
    "\n"
   ]
  },
  {
   "cell_type": "code",
   "execution_count": 59,
   "id": "f6f63727-7742-4366-8846-cfb924d6fac1",
   "metadata": {},
   "outputs": [
    {
     "name": "stdout",
     "output_type": "stream",
     "text": [
      "The intersection is empty.\n"
     ]
    }
   ],
   "source": [
    "# Problem 41\n",
    "#  Check if the intersection of two sets is empty.\n",
    "\n",
    "\n",
    "\n",
    "set1 = {1, 2, 3, 4, 5}\n",
    "set2 = {6, 7, 8, 9, 10}\n",
    "\n",
    "\n",
    "intersection_empty = set1.isdisjoint(set2)\n",
    "\n",
    "\n",
    "if intersection_empty:\n",
    "    print(\"The intersection is empty.\")\n",
    "else:\n",
    "    print(\"The intersection is not empty.\")\n"
   ]
  },
  {
   "cell_type": "code",
   "execution_count": 62,
   "id": "981cc368-5d9a-4c2d-995b-77774c5f824f",
   "metadata": {},
   "outputs": [
    {
     "name": "stdout",
     "output_type": "stream",
     "text": [
      "Set of the first 5 Fibonacci numbers: {0, 1, 2, 3}\n"
     ]
    }
   ],
   "source": [
    "# Problem 42\n",
    "#  Create a set of the first 5 Fibonacci numbers.\n",
    "\n",
    "\n",
    "def generate_fibonacci(n):\n",
    "    fibonacci_set = set()\n",
    "    a, b = 0, 1\n",
    "    for _ in range(n):\n",
    "        fibonacci_set.add(a)\n",
    "        a, b = b, a + b\n",
    "    return fibonacci_set\n",
    "\n",
    "\n",
    "fibonacci_set = generate_fibonacci(5)\n",
    "\n",
    "\n",
    "print(\"Set of the first 5 Fibonacci numbers:\", fibonacci_set)\n",
    "\n"
   ]
  },
  {
   "cell_type": "code",
   "execution_count": 63,
   "id": "483ca7ef-065f-44e0-bd67-33e9b0f355d3",
   "metadata": {},
   "outputs": [
    {
     "name": "stdout",
     "output_type": "stream",
     "text": [
      "List without duplicates: [1, 2, 3, 4, 5]\n"
     ]
    }
   ],
   "source": [
    "# Problem 43\n",
    "#  Remove duplicates from a list using sets.\n",
    "\n",
    "\n",
    "\n",
    "my_list = [1, 2, 2, 3, 4, 4, 5]\n",
    "\n",
    "\n",
    "unique_list = list(set(my_list))\n",
    "\n",
    "\n",
    "print(\"List without duplicates:\", unique_list)\n"
   ]
  },
  {
   "cell_type": "code",
   "execution_count": 65,
   "id": "f523898a-e249-49f7-bab6-88c8ce77853b",
   "metadata": {},
   "outputs": [
    {
     "name": "stdout",
     "output_type": "stream",
     "text": [
      "The sets have the same elements.\n"
     ]
    }
   ],
   "source": [
    "# Problem 44\n",
    "#  Check if two sets have the same elements, regardless of their count.\n",
    "\n",
    "\n",
    "\n",
    "set1 = {1, 2, 3, 4, 5}\n",
    "set2 = {5, 4, 3, 2, 1}\n",
    "\n",
    "\n",
    "if set1 == set2:\n",
    "    print(\"The sets have the same elements.\")\n",
    "else:\n",
    "    print(\"The sets do not have the same elements.\")\n",
    "\n"
   ]
  },
  {
   "cell_type": "code",
   "execution_count": 66,
   "id": "ab61ef4a-f463-48d9-b40a-14cd8ada3dd9",
   "metadata": {},
   "outputs": [
    {
     "name": "stdout",
     "output_type": "stream",
     "text": [
      "Set of the first 5 powers of 2: {1, 2, 4, 8, 16}\n"
     ]
    }
   ],
   "source": [
    "# Problem 45\n",
    "#  Create a set of the first `n` powers of 2.\n",
    "\n",
    "\n",
    "n = 5\n",
    "\n",
    "\n",
    "powers_of_two_set = {2**i for i in range(n)}\n",
    "\n",
    "\n",
    "print(\"Set of the first\", n, \"powers of 2:\", powers_of_two_set)\n",
    "\n"
   ]
  },
  {
   "cell_type": "code",
   "execution_count": 67,
   "id": "8703c18c-ed2a-49b3-a640-8a95cbbace95",
   "metadata": {},
   "outputs": [
    {
     "name": "stdout",
     "output_type": "stream",
     "text": [
      "Common elements using the intersection method: {3, 4, 5}\n",
      "Common elements using the & operator: {3, 4, 5}\n"
     ]
    }
   ],
   "source": [
    "# Problem 46\n",
    "#  Find the common elements between a set and a list.\n",
    "\n",
    "\n",
    "\n",
    "my_set = {1, 2, 3, 4, 5}\n",
    "my_list = [3, 4, 5, 6, 7]\n",
    "\n",
    "\n",
    "common_elements_method = my_set.intersection(my_list)\n",
    "\n",
    "\n",
    "common_elements_operator = my_set & set(my_list)\n",
    "\n",
    "\n",
    "print(\"Common elements using the intersection method:\", common_elements_method)\n",
    "print(\"Common elements using the & operator:\", common_elements_operator)\n"
   ]
  },
  {
   "cell_type": "code",
   "execution_count": 69,
   "id": "8770486e-9b18-48e4-8e4f-2245ed632f15",
   "metadata": {},
   "outputs": [
    {
     "name": "stdout",
     "output_type": "stream",
     "text": [
      "Set of the first 5 triangular numbers: {1, 3, 6, 10, 15}\n"
     ]
    }
   ],
   "source": [
    "# Problem 47\n",
    "#  Create a set of the first `n` triangular numbers\n",
    "\n",
    "\n",
    "\n",
    "n = 5\n",
    "\n",
    "\n",
    "triangular_numbers_set = {i * (i + 1) // 2 for i in range(1, n + 1)}\n",
    "\n",
    "\n",
    "print(\"Set of the first\", n, \"triangular numbers:\", triangular_numbers_set)\n"
   ]
  },
  {
   "cell_type": "code",
   "execution_count": 70,
   "id": "0c729294-c64f-40b2-80f1-ea67548d1329",
   "metadata": {},
   "outputs": [
    {
     "name": "stdout",
     "output_type": "stream",
     "text": [
      "set2 is a subset of set1.\n"
     ]
    }
   ],
   "source": [
    "# Problem 48\n",
    "#  Check if a set contains another set as a subset.\n",
    "\n",
    "\n",
    "\n",
    "\n",
    "set1 = {1, 2, 3, 4, 5}\n",
    "set2 = {2, 4}\n",
    "\n",
    "\n",
    "if set2.issubset(set1):\n",
    "    print(\"set2 is a subset of set1.\")\n",
    "else:\n",
    "    print(\"set2 is not a subset of set1.\")\n"
   ]
  },
  {
   "cell_type": "code",
   "execution_count": 72,
   "id": "eccd0e29-6692-494e-946e-146b39b1f81e",
   "metadata": {},
   "outputs": [
    {
     "name": "stdout",
     "output_type": "stream",
     "text": [
      "Set of alternating 1s and 0s: {0, 1}\n"
     ]
    }
   ],
   "source": [
    "# Problem 49\n",
    "#  Create a set of alternating 1s and 0s of length `n`.\n",
    "\n",
    "\n",
    "\n",
    "n = 8\n",
    "\n",
    "alternating_set = {i % 2 for i in range(n)}\n",
    "\n",
    "print(\"Set of alternating 1s and 0s:\", alternating_set)\n",
    "\n"
   ]
  },
  {
   "cell_type": "code",
   "execution_count": null,
   "id": "e2428dfb-1856-4167-89d5-d2227cb2e132",
   "metadata": {},
   "outputs": [],
   "source": [
    "# Problem 50\n",
    "#  Merge multiple sets into one\n",
    "\n",
    "\n"
   ]
  }
 ],
 "metadata": {
  "kernelspec": {
   "display_name": "Python 3 (ipykernel)",
   "language": "python",
   "name": "python3"
  },
  "language_info": {
   "codemirror_mode": {
    "name": "ipython",
    "version": 3
   },
   "file_extension": ".py",
   "mimetype": "text/x-python",
   "name": "python",
   "nbconvert_exporter": "python",
   "pygments_lexer": "ipython3",
   "version": "3.10.8"
  }
 },
 "nbformat": 4,
 "nbformat_minor": 5
}
