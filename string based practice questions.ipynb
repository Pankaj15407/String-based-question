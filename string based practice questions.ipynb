{
 "cells": [
  {
   "cell_type": "code",
   "execution_count": 2,
   "id": "7e31c72c-d224-4376-8b1a-0ba9523aebc9",
   "metadata": {},
   "outputs": [
    {
     "name": "stdin",
     "output_type": "stream",
     "text": [
      "Enter a string:  Gautam\n"
     ]
    },
    {
     "name": "stdout",
     "output_type": "stream",
     "text": [
      "Reversed string: matuaG\n"
     ]
    }
   ],
   "source": [
    "#Problem 1\n",
    "\n",
    "def reverse_string(input_string):\n",
    "    return ''.join(reversed(input_string))\n",
    "\n",
    "input_str = input(\"Enter a string: \")\n",
    "reversed_str = reverse_string(input_str)\n",
    "print(\"Reversed string:\", reversed_str)\n"
   ]
  },
  {
   "cell_type": "code",
   "execution_count": 7,
   "id": "4815e60b-c824-4865-b751-a416eec04856",
   "metadata": {},
   "outputs": [
    {
     "name": "stdin",
     "output_type": "stream",
     "text": [
      "Enter a string:  PWskills\n"
     ]
    },
    {
     "name": "stdout",
     "output_type": "stream",
     "text": [
      "The string is not a palindrome.\n"
     ]
    }
   ],
   "source": [
    "#Problem 2\n",
    "\n",
    "def is_palindrome(input_string):\n",
    "   \n",
    "    cleaned_string = input_string.replace(\" \", \"\").lower()\n",
    "    reversed_string = cleaned_string[::-1]\n",
    "    return cleaned_string == reversed_string\n",
    "\n",
    "\n",
    "input_str = input(\"Enter a string: \")\n",
    "if is_palindrome(input_str):\n",
    "    print(\"The string is a palindrome.\")\n",
    "else:\n",
    "    print(\"The string is not a palindrome.\")\n"
   ]
  },
  {
   "cell_type": "code",
   "execution_count": 8,
   "id": "738eb353-ad18-4207-abf6-9402e2d72edd",
   "metadata": {},
   "outputs": [
    {
     "name": "stdin",
     "output_type": "stream",
     "text": [
      "Enter a string:  pankaj\n"
     ]
    },
    {
     "name": "stdout",
     "output_type": "stream",
     "text": [
      "Uppercase string: PANKAJ\n"
     ]
    }
   ],
   "source": [
    "#Problem 3\n",
    "\n",
    "input_str = input(\"Enter a string: \")\n",
    "uppercase_str = input_str.upper()\n",
    "print(\"Uppercase string:\", uppercase_str)\n"
   ]
  },
  {
   "cell_type": "code",
   "execution_count": 9,
   "id": "b3231af2-8e18-4ee0-8a0f-38429c377a6c",
   "metadata": {},
   "outputs": [
    {
     "name": "stdin",
     "output_type": "stream",
     "text": [
      "Enter a string:  PANKAJ\n"
     ]
    },
    {
     "name": "stdout",
     "output_type": "stream",
     "text": [
      "lowercase string: pankaj\n"
     ]
    }
   ],
   "source": [
    "#Problem 4\n",
    "\n",
    "input_str = input(\"Enter a string: \")\n",
    "lowercase_str = input_str.lower()\n",
    "print(\"lowercase string:\", lowercase_str)"
   ]
  },
  {
   "cell_type": "code",
   "execution_count": 11,
   "id": "a8870b97-dcd6-421d-9218-fc0648727f81",
   "metadata": {},
   "outputs": [
    {
     "name": "stdin",
     "output_type": "stream",
     "text": [
      "Enter a string:  Physics\n"
     ]
    },
    {
     "name": "stdout",
     "output_type": "stream",
     "text": [
      "Number of vowels: 1\n"
     ]
    }
   ],
   "source": [
    "#Problem 5\n",
    "\n",
    "def count_vowels(input_string):\n",
    "   \n",
    "    input_string = input_string.lower()\n",
    "    \n",
    "   \n",
    "    vowels = set(\"aeiou\")\n",
    "    \n",
    "   \n",
    "    vowel_count = sum(1 for char in input_string if char in vowels)\n",
    "    \n",
    "    return vowel_count\n",
    "\n",
    "\n",
    "input_str = input(\"Enter a string: \")\n",
    "result = count_vowels(input_str)\n",
    "print(\"Number of vowels:\", result)\n",
    "\n"
   ]
  },
  {
   "cell_type": "code",
   "execution_count": 12,
   "id": "83492e98-12d1-4152-9f22-f4e0ac2ed586",
   "metadata": {},
   "outputs": [
    {
     "name": "stdin",
     "output_type": "stream",
     "text": [
      "Enter a string:  Physicswallah\n"
     ]
    },
    {
     "name": "stdout",
     "output_type": "stream",
     "text": [
      "Number of consonants: 10\n"
     ]
    }
   ],
   "source": [
    "#Problem 6 \n",
    "\n",
    "\n",
    "def count_consonants(input_string):\n",
    "    \n",
    "    input_string = input_string.lower()\n",
    "    \n",
    "    \n",
    "    vowels = set(\"aeiou\")\n",
    "    \n",
    "    \n",
    "    consonant_count = sum(1 for char in input_string if char.isalpha() and char not in vowels)\n",
    "    \n",
    "    return consonant_count\n",
    "\n",
    "\n",
    "input_str = input(\"Enter a string: \")\n",
    "result = count_consonants(input_str)\n",
    "print(\"Number of consonants:\", result)\n"
   ]
  },
  {
   "cell_type": "code",
   "execution_count": 14,
   "id": "d46c0a0b-c19e-4b25-b2ea-c2749ec5202c",
   "metadata": {},
   "outputs": [
    {
     "name": "stdin",
     "output_type": "stream",
     "text": [
      "Enter a string:  big basket\n"
     ]
    },
    {
     "name": "stdout",
     "output_type": "stream",
     "text": [
      "String with whitespaces removed: bigbasket\n"
     ]
    }
   ],
   "source": [
    "#Problem 7\n",
    "\n",
    "def remove_whitespace(input_string):\n",
    "    return input_string.replace(\" \", \"\")\n",
    "\n",
    "\n",
    "input_str = input(\"Enter a string: \")\n",
    "result_str = remove_whitespace(input_str)\n",
    "print(\"String with whitespaces removed:\", result_str)\n"
   ]
  },
  {
   "cell_type": "code",
   "execution_count": 15,
   "id": "dd996397-7b3a-4ad2-bef4-d47ead05d54a",
   "metadata": {},
   "outputs": [
    {
     "name": "stdin",
     "output_type": "stream",
     "text": [
      "Enter a string:  bigbazaar\n"
     ]
    },
    {
     "name": "stdout",
     "output_type": "stream",
     "text": [
      "Length of the string: 9\n"
     ]
    }
   ],
   "source": [
    "#Problem 8\n",
    "\n",
    "def calculate_string_length(input_string):\n",
    "    count = 0\n",
    "    for char in input_string:\n",
    "        count += 1\n",
    "    return count\n",
    "\n",
    "input_str = input(\"Enter a string: \")\n",
    "result_length = calculate_string_length(input_str)\n",
    "print(\"Length of the string:\", result_length)\n"
   ]
  },
  {
   "cell_type": "code",
   "execution_count": 16,
   "id": "c72ec4c4-c341-4a64-9c60-2a8a815a7a9c",
   "metadata": {},
   "outputs": [
    {
     "name": "stdin",
     "output_type": "stream",
     "text": [
      "Enter a string:  company\n",
      "Enter the word to check:  m\n"
     ]
    },
    {
     "name": "stdout",
     "output_type": "stream",
     "text": [
      "The string contains the word 'm'.\n"
     ]
    }
   ],
   "source": [
    "#Problem 9\n",
    "\n",
    "def contains_word(input_string, target_word):\n",
    "    return target_word in input_string\n",
    "\n",
    "\n",
    "input_str = input(\"Enter a string: \")\n",
    "word_to_check = input(\"Enter the word to check: \")\n",
    "\n",
    "if contains_word(input_str, word_to_check):\n",
    "    print(f\"The string contains the word '{word_to_check}'.\")\n",
    "else:\n",
    "    print(f\"The string does not contain the word '{word_to_check}'.\")\n"
   ]
  },
  {
   "cell_type": "code",
   "execution_count": 17,
   "id": "caffe26b-fc4d-4ba2-9884-e277b1ea73d6",
   "metadata": {},
   "outputs": [
    {
     "name": "stdin",
     "output_type": "stream",
     "text": [
      "Enter a string:  secretary\n",
      "Enter the word to replace:  a\n",
      "Enter the new word:  e\n"
     ]
    },
    {
     "name": "stdout",
     "output_type": "stream",
     "text": [
      "Updated string: secretery\n"
     ]
    }
   ],
   "source": [
    "#Problem 10\n",
    "\n",
    "def replace_word(input_string, old_word, new_word):\n",
    "    return input_string.replace(old_word, new_word)\n",
    "\n",
    "input_str = input(\"Enter a string: \")\n",
    "old_word_to_replace = input(\"Enter the word to replace: \")\n",
    "new_word = input(\"Enter the new word: \")\n",
    "\n",
    "result_str = replace_word(input_str, old_word_to_replace, new_word)\n",
    "print(\"Updated string:\", result_str)\n"
   ]
  },
  {
   "cell_type": "code",
   "execution_count": 18,
   "id": "e2b22b52-787c-427d-9bbe-5c44717ae6b6",
   "metadata": {},
   "outputs": [
    {
     "name": "stdin",
     "output_type": "stream",
     "text": [
      "Enter a string:  India\n",
      "Enter the word to count:  i\n"
     ]
    },
    {
     "name": "stdout",
     "output_type": "stream",
     "text": [
      "The word 'i' occurs 0 times in the string.\n"
     ]
    }
   ],
   "source": [
    "#Problem 11\n",
    "\n",
    "def count_word_occurrences(input_string, target_word):\n",
    "    return input_string.lower().split().count(target_word.lower())\n",
    "\n",
    "input_str = input(\"Enter a string: \")\n",
    "word_to_count = input(\"Enter the word to count: \")\n",
    "\n",
    "occurrences = count_word_occurrences(input_str, word_to_count)\n",
    "print(f\"The word '{word_to_count}' occurs {occurrences} times in the string.\")\n"
   ]
  },
  {
   "cell_type": "code",
   "execution_count": 19,
   "id": "5cb1863a-701c-490c-9f95-ebede1d0aef9",
   "metadata": {},
   "outputs": [
    {
     "name": "stdin",
     "output_type": "stream",
     "text": [
      "Enter a string:  Indonesia\n",
      "Enter the word to find:  n\n"
     ]
    },
    {
     "name": "stdout",
     "output_type": "stream",
     "text": [
      "The first occurrence of 'n' starts at index 1.\n"
     ]
    }
   ],
   "source": [
    "#Problem 12\n",
    "\n",
    "\n",
    "def find_first_occurrence(input_string, target_word):\n",
    "    return input_string.lower().find(target_word.lower())\n",
    "\n",
    "input_str = input(\"Enter a string: \")\n",
    "word_to_find = input(\"Enter the word to find: \")\n",
    "\n",
    "index = find_first_occurrence(input_str, word_to_find)\n",
    "\n",
    "if index != -1:\n",
    "    print(f\"The first occurrence of '{word_to_find}' starts at index {index}.\")\n",
    "else:\n",
    "    print(f\"The word '{word_to_find}' is not found in the string.\")\n"
   ]
  },
  {
   "cell_type": "code",
   "execution_count": 20,
   "id": "ec85f927-c1d8-4d4b-ae8a-042152a96919",
   "metadata": {},
   "outputs": [
    {
     "name": "stdin",
     "output_type": "stream",
     "text": [
      "Enter a string:  skills\n",
      "Enter the word to find:  k\n"
     ]
    },
    {
     "name": "stdout",
     "output_type": "stream",
     "text": [
      "The last occurrence of 'k' starts at index 1.\n"
     ]
    }
   ],
   "source": [
    "#Problem 13\n",
    "\n",
    "\n",
    "def find_last_occurrence(input_string, target_word):\n",
    "    return input_string.lower().rfind(target_word.lower())\n",
    "\n",
    "\n",
    "input_str = input(\"Enter a string: \")\n",
    "word_to_find = input(\"Enter the word to find: \")\n",
    "\n",
    "index = find_last_occurrence(input_str, word_to_find)\n",
    "\n",
    "if index != -1:\n",
    "    print(f\"The last occurrence of '{word_to_find}' starts at index {index}.\")\n",
    "else:\n",
    "    print(f\"The word '{word_to_find}' is not found in the string.\")\n"
   ]
  },
  {
   "cell_type": "code",
   "execution_count": 21,
   "id": "cd693916-4dca-493c-bfaa-786bc44ee446",
   "metadata": {},
   "outputs": [
    {
     "name": "stdin",
     "output_type": "stream",
     "text": [
      "Enter a string:  Basket\n"
     ]
    },
    {
     "name": "stdout",
     "output_type": "stream",
     "text": [
      "List of words: ['Basket']\n"
     ]
    }
   ],
   "source": [
    "#Problem 14\n",
    "\n",
    "def split_into_words(input_string):\n",
    "    return input_string.split()\n",
    "\n",
    "input_str = input(\"Enter a string: \")\n",
    "word_list = split_into_words(input_str)\n",
    "\n",
    "print(\"List of words:\", word_list)\n"
   ]
  },
  {
   "cell_type": "code",
   "execution_count": 22,
   "id": "18e78617-c473-4e22-81f4-14d7d6b92eb9",
   "metadata": {},
   "outputs": [
    {
     "name": "stdout",
     "output_type": "stream",
     "text": [
      "Joined string: This is a list of words\n"
     ]
    }
   ],
   "source": [
    "#Problem 15\n",
    "\n",
    "\n",
    "def join_words(word_list):\n",
    "    return ' '.join(word_list)\n",
    "\n",
    "words = [\"This\", \"is\", \"a\", \"list\", \"of\", \"words\"]\n",
    "result_string = join_words(words)\n",
    "\n",
    "print(\"Joined string:\", result_string)\n"
   ]
  },
  {
   "cell_type": "code",
   "execution_count": 24,
   "id": "24002767-9640-475f-bad0-2a53415fe0fb",
   "metadata": {},
   "outputs": [
    {
     "name": "stdin",
     "output_type": "stream",
     "text": [
      "Enter a string with spaces between words:  big bazaar\n"
     ]
    },
    {
     "name": "stdout",
     "output_type": "stream",
     "text": [
      "String with underscores: big_bazaar\n"
     ]
    }
   ],
   "source": [
    "#Problem 16\n",
    "\n",
    "\n",
    "def replace_spaces_with_underscores(input_string):\n",
    "    return input_string.replace(\" \", \"_\")\n",
    "\n",
    "input_str = input(\"Enter a string with spaces between words: \")\n",
    "result_str = replace_spaces_with_underscores(input_str)\n",
    "\n",
    "print(\"String with underscores:\", result_str)\n"
   ]
  },
  {
   "cell_type": "code",
   "execution_count": 26,
   "id": "884e89d7-abb7-4242-b493-0b61a611390e",
   "metadata": {},
   "outputs": [
    {
     "name": "stdin",
     "output_type": "stream",
     "text": [
      "Enter a string:  medicine\n",
      "Enter the prefix to check:  m\n"
     ]
    },
    {
     "name": "stdout",
     "output_type": "stream",
     "text": [
      "The string starts with 'm'.\n"
     ]
    }
   ],
   "source": [
    "#Problem 17\n",
    "\n",
    "\n",
    "def starts_with(input_string, prefix):\n",
    "    return input_string.startswith(prefix)\n",
    "\n",
    "input_str = input(\"Enter a string: \")\n",
    "prefix_to_check = input(\"Enter the prefix to check: \")\n",
    "\n",
    "if starts_with(input_str, prefix_to_check):\n",
    "    print(f\"The string starts with '{prefix_to_check}'.\")\n",
    "else:\n",
    "    print(f\"The string does not start with '{prefix_to_check}'.\")\n"
   ]
  },
  {
   "cell_type": "code",
   "execution_count": 27,
   "id": "8e720755-2ba1-4e6c-9132-f115c729ead2",
   "metadata": {},
   "outputs": [
    {
     "name": "stdin",
     "output_type": "stream",
     "text": [
      "Enter a string:  balloon\n",
      "Enter the suffix to check:  n\n"
     ]
    },
    {
     "name": "stdout",
     "output_type": "stream",
     "text": [
      "The string ends with 'n'.\n"
     ]
    }
   ],
   "source": [
    "#Problem 18\n",
    "\n",
    "def ends_with(input_string, suffix):\n",
    "    return input_string.endswith(suffix)\n",
    "\n",
    "input_str = input(\"Enter a string: \")\n",
    "suffix_to_check = input(\"Enter the suffix to check: \")\n",
    "\n",
    "if ends_with(input_str, suffix_to_check):\n",
    "    print(f\"The string ends with '{suffix_to_check}'.\")\n",
    "else:\n",
    "    print(f\"The string does not end with '{suffix_to_check}'.\")\n"
   ]
  },
  {
   "cell_type": "code",
   "execution_count": 28,
   "id": "b08337c8-0701-43fc-b0d2-51010000113e",
   "metadata": {},
   "outputs": [
    {
     "name": "stdin",
     "output_type": "stream",
     "text": [
      "Enter a string:  physics\n"
     ]
    },
    {
     "name": "stdout",
     "output_type": "stream",
     "text": [
      "Title case string: Physics\n"
     ]
    }
   ],
   "source": [
    "#Problem 19\n",
    "\n",
    "\n",
    "def convert_to_title_case(input_string):\n",
    "    return input_string.title()\n",
    "\n",
    "input_str = input(\"Enter a string: \")\n",
    "title_case_str = convert_to_title_case(input_str)\n",
    "\n",
    "print(\"Title case string:\", title_case_str)\n"
   ]
  },
  {
   "cell_type": "code",
   "execution_count": 29,
   "id": "1f4d53e4-5910-4a80-953c-9eecb00fa5c3",
   "metadata": {},
   "outputs": [
    {
     "name": "stdin",
     "output_type": "stream",
     "text": [
      "Enter a string:  thiruvananthapuram\n"
     ]
    },
    {
     "name": "stdout",
     "output_type": "stream",
     "text": [
      "The longest word in the string is: thiruvananthapuram\n"
     ]
    }
   ],
   "source": [
    "#Problem 20\n",
    "\n",
    "\n",
    "def find_longest_word(input_string):\n",
    "    words = input_string.split()\n",
    "    \n",
    "    if not words:\n",
    "        return None  # Return None if the string is empty\n",
    "\n",
    "    longest_word = max(words, key=len)\n",
    "    return longest_word\n",
    "\n",
    "input_str = input(\"Enter a string: \")\n",
    "longest_word = find_longest_word(input_str)\n",
    "\n",
    "if longest_word:\n",
    "    print(f\"The longest word in the string is: {longest_word}\")\n",
    "else:\n",
    "    print(\"The string is empty.\")\n"
   ]
  },
  {
   "cell_type": "code",
   "execution_count": 30,
   "id": "91a6564a-663b-45dd-9a12-e1bd0acaa616",
   "metadata": {},
   "outputs": [
    {
     "name": "stdin",
     "output_type": "stream",
     "text": [
      "Enter a string:  Japan\n"
     ]
    },
    {
     "name": "stdout",
     "output_type": "stream",
     "text": [
      "The shortest word in the string is: Japan\n"
     ]
    }
   ],
   "source": [
    "#Problem 21\n",
    "\n",
    "\n",
    "def find_shortest_word(input_string):\n",
    "    words = input_string.split()\n",
    "\n",
    "    if not words:\n",
    "        return None  # Return None if the string is empty\n",
    "\n",
    "    shortest_word = min(words, key=len)\n",
    "    return shortest_word\n",
    "\n",
    "input_str = input(\"Enter a string: \")\n",
    "shortest_word = find_shortest_word(input_str)\n",
    "\n",
    "if shortest_word:\n",
    "    print(f\"The shortest word in the string is: {shortest_word}\")\n",
    "else:\n",
    "    print(\"The string is empty.\")\n"
   ]
  },
  {
   "cell_type": "code",
   "execution_count": 35,
   "id": "a4f1a680-5c51-4c17-a7e1-5aaa3fe4e384",
   "metadata": {},
   "outputs": [
    {
     "name": "stdin",
     "output_type": "stream",
     "text": [
      "Enter a string:  January\n"
     ]
    },
    {
     "name": "stdout",
     "output_type": "stream",
     "text": [
      "String with reversed word order: January\n"
     ]
    }
   ],
   "source": [
    "#Problem 22\n",
    "\n",
    "def reverse_words_order(input_string):\n",
    "    words = input_string.split()\n",
    "    reversed_words = ' '.join(reversed(words))\n",
    "    return reversed_words\n",
    "\n",
    "input_str = input(\"Enter a string: \")\n",
    "reversed_str = reverse_words_order(input_str)\n",
    "\n",
    "print(\"String with reversed word order:\", reversed_str)\n"
   ]
  },
  {
   "cell_type": "code",
   "execution_count": 38,
   "id": "e9f56187-31ad-4c8c-9387-a9b4aa6ea40e",
   "metadata": {},
   "outputs": [
    {
     "name": "stdin",
     "output_type": "stream",
     "text": [
      "Enter a string:  March\n"
     ]
    },
    {
     "name": "stdout",
     "output_type": "stream",
     "text": [
      "The string is alphanumeric.\n"
     ]
    }
   ],
   "source": [
    "#Problem 23\n",
    "\n",
    "def is_alphanumeric(input_string):\n",
    "    return input_string.isalnum()\n",
    "\n",
    "\n",
    "input_str = input(\"Enter a string: \")\n",
    "\n",
    "if is_alphanumeric(input_str):\n",
    "    print(\"The string is alphanumeric.\")\n",
    "else:\n",
    "    print(\"The string is not alphanumeric.\")\n",
    "\n"
   ]
  },
  {
   "cell_type": "code",
   "execution_count": 40,
   "id": "cd386b54-4486-47aa-a792-0b1ca5e6cf33",
   "metadata": {},
   "outputs": [
    {
     "name": "stdin",
     "output_type": "stream",
     "text": [
      "Enter a string:  words1\n"
     ]
    },
    {
     "name": "stdout",
     "output_type": "stream",
     "text": [
      "Digits extracted from the string: 1\n"
     ]
    }
   ],
   "source": [
    "#Problem 24\n",
    "\n",
    "\n",
    "def extract_digits(input_string):\n",
    "    return [char for char in input_string if char.isdigit()]\n",
    "\n",
    "\n",
    "input_str = input(\"Enter a string: \")\n",
    "digits_list = extract_digits(input_str)\n",
    "\n",
    "if digits_list:\n",
    "    print(\"Digits extracted from the string:\", ''.join(digits_list))\n",
    "else:\n",
    "    print(\"No digits found in the string.\")\n"
   ]
  },
  {
   "cell_type": "code",
   "execution_count": 41,
   "id": "fe3f8c6f-d2a0-4dc0-ada1-8119928f8ade",
   "metadata": {},
   "outputs": [
    {
     "name": "stdin",
     "output_type": "stream",
     "text": [
      "Enter a string:  Giraffe\n"
     ]
    },
    {
     "name": "stdout",
     "output_type": "stream",
     "text": [
      "Alphabets extracted from the string: Giraffe\n"
     ]
    }
   ],
   "source": [
    "#Problem 25\n",
    "\n",
    "def extract_alphabets(input_string):\n",
    "    return [char for char in input_string if char.isalpha()]\n",
    "\n",
    "input_str = input(\"Enter a string: \")\n",
    "alphabets_list = extract_alphabets(input_str)\n",
    "\n",
    "if alphabets_list:\n",
    "    print(\"Alphabets extracted from the string:\", ''.join(alphabets_list))\n",
    "else:\n",
    "    print(\"No alphabets found in the string.\")\n"
   ]
  },
  {
   "cell_type": "code",
   "execution_count": 42,
   "id": "31f808b0-f44b-4d31-b5c0-6436af597e69",
   "metadata": {},
   "outputs": [
    {
     "name": "stdin",
     "output_type": "stream",
     "text": [
      "Enter a string:  Physicswallah\n"
     ]
    },
    {
     "name": "stdout",
     "output_type": "stream",
     "text": [
      "Number of uppercase letters: 1\n"
     ]
    }
   ],
   "source": [
    "#Problem 26\n",
    "\n",
    "def count_uppercase_letters(input_string):\n",
    "    count = 0\n",
    "    for char in input_string:\n",
    "        if char.isupper():\n",
    "            count += 1\n",
    "    return count\n",
    "\n",
    "\n",
    "input_str = input(\"Enter a string: \")\n",
    "uppercase_count = count_uppercase_letters(input_str)\n",
    "\n",
    "print(\"Number of uppercase letters:\", uppercase_count)\n"
   ]
  },
  {
   "cell_type": "code",
   "execution_count": 43,
   "id": "c7bc6849-45bc-476b-acf2-3a6ec5c837c6",
   "metadata": {},
   "outputs": [
    {
     "name": "stdin",
     "output_type": "stream",
     "text": [
      "Enter a string:  worldcup\n"
     ]
    },
    {
     "name": "stdout",
     "output_type": "stream",
     "text": [
      "Number of lowercase letters: 8\n"
     ]
    }
   ],
   "source": [
    "#Problem 27\n",
    "\n",
    "\n",
    "def count_lowercase_letters(input_string):\n",
    "    count = 0\n",
    "    for char in input_string:\n",
    "        if char.islower():\n",
    "            count += 1\n",
    "    return count\n",
    "\n",
    "\n",
    "input_str = input(\"Enter a string: \")\n",
    "lowercase_count = count_lowercase_letters(input_str)\n",
    "\n",
    "print(\"Number of lowercase letters:\", lowercase_count)\n"
   ]
  },
  {
   "cell_type": "code",
   "execution_count": 44,
   "id": "bcc78df6-f3b8-4f89-94aa-98270265402e",
   "metadata": {},
   "outputs": [
    {
     "name": "stdin",
     "output_type": "stream",
     "text": [
      "Enter a string:  boom\n"
     ]
    },
    {
     "name": "stdout",
     "output_type": "stream",
     "text": [
      "String with swapped case: BOOM\n"
     ]
    }
   ],
   "source": [
    "#Problem 28\n",
    "\n",
    "\n",
    "def swap_case(input_string):\n",
    "    return input_string.swapcase()\n",
    "\n",
    "input_str = input(\"Enter a string: \")\n",
    "swapped_str = swap_case(input_str)\n",
    "\n",
    "print(\"String with swapped case:\", swapped_str)\n"
   ]
  },
  {
   "cell_type": "code",
   "execution_count": 45,
   "id": "7fa5d709-a6b8-46ce-8a3b-2518eb5ae196",
   "metadata": {},
   "outputs": [
    {
     "name": "stdin",
     "output_type": "stream",
     "text": [
      "Enter a string:  kitchen\n",
      "Enter the word to remove:  c\n"
     ]
    },
    {
     "name": "stdout",
     "output_type": "stream",
     "text": [
      "String with the word removed: kithen\n"
     ]
    }
   ],
   "source": [
    "#Problem 29\n",
    "\n",
    "\n",
    "def remove_word(input_string, word_to_remove):\n",
    "    return input_string.replace(word_to_remove, \"\")\n",
    "\n",
    "\n",
    "input_str = input(\"Enter a string: \")\n",
    "word_to_remove = input(\"Enter the word to remove: \")\n",
    "\n",
    "result_str = remove_word(input_str, word_to_remove)\n",
    "print(\"String with the word removed:\", result_str)\n"
   ]
  },
  {
   "cell_type": "code",
   "execution_count": 47,
   "id": "c392b32c-25e9-41e3-9d96-b19e9642ca80",
   "metadata": {},
   "outputs": [
    {
     "name": "stdin",
     "output_type": "stream",
     "text": [
      "Enter an email address:  pankajkumar15407@gmail.com\n"
     ]
    },
    {
     "name": "stdout",
     "output_type": "stream",
     "text": [
      "The email address is valid.\n"
     ]
    }
   ],
   "source": [
    "#Problem 30\n",
    "\n",
    "\n",
    "import re\n",
    "\n",
    "def is_valid_email(email):\n",
    "    # Define a simple regex pattern for checking email addresses\n",
    "    pattern = r'^[a-zA-Z0-9._%+-]+@[a-zA-Z0-9.-]+\\.[a-zA-Z]{2,}$'\n",
    "    \n",
    "    # Use re.match() to check if the string matches the pattern\n",
    "    return re.match(pattern, email) is not None\n",
    "\n",
    "email_address = input(\"Enter an email address: \")\n",
    "\n",
    "if is_valid_email(email_address):\n",
    "    print(\"The email address is valid.\")\n",
    "else:\n",
    "    print(\"The email address is not valid.\")\n"
   ]
  },
  {
   "cell_type": "code",
   "execution_count": 52,
   "id": "04b8ae6f-f7ee-4171-baf5-6f30c61011a1",
   "metadata": {},
   "outputs": [
    {
     "name": "stdin",
     "output_type": "stream",
     "text": [
      "Enter an email address:  abc@gmail.com\n"
     ]
    },
    {
     "name": "stdout",
     "output_type": "stream",
     "text": [
      "The username is: abc\n"
     ]
    }
   ],
   "source": [
    "#Problem 31\n",
    "\n",
    "\n",
    "def extract_username(email):\n",
    "\n",
    "    parts = email.split('@')\n",
    "    \n",
    "    \n",
    "    if len(parts) > 1:\n",
    "        return parts[0]\n",
    "    else:\n",
    "        return None  \n",
    "\n",
    "email_address = input(\"Enter an email address: \")\n",
    "\n",
    "username = extract_username(email_address)\n",
    "\n",
    "if username:\n",
    "    print(\"The username is:\", username)\n",
    "else:\n",
    "    print(\"Invalid email address. No username found\")\n"
   ]
  },
  {
   "cell_type": "code",
   "execution_count": 54,
   "id": "b4e22cd8-1ff5-4abd-a2cd-e4b981006e3f",
   "metadata": {},
   "outputs": [
    {
     "name": "stdin",
     "output_type": "stream",
     "text": [
      "Enter an email address:  abc@gmail.com\n"
     ]
    },
    {
     "name": "stdout",
     "output_type": "stream",
     "text": [
      "The domain name is: gmail.com\n"
     ]
    }
   ],
   "source": [
    "#Problem 32\n",
    "\n",
    "\n",
    "def extract_domain(email):\n",
    "    \n",
    "    parts = email.split('@')\n",
    "    \n",
    "    \n",
    "    if len(parts) > 1:\n",
    "        return parts[1]\n",
    "    else:\n",
    "        return None  \n",
    "\n",
    "email_address = input(\"Enter an email address: \")\n",
    "\n",
    "domain = extract_domain(email_address)\n",
    "\n",
    "if domain:\n",
    "    print(\"The domain name is:\", domain)\n",
    "else:\n",
    "    print(\"Invalid email address. No domain name found.\")\n"
   ]
  },
  {
   "cell_type": "code",
   "execution_count": 57,
   "id": "657cac3b-52a9-405d-aab6-d11e4bc9ac91",
   "metadata": {},
   "outputs": [
    {
     "name": "stdin",
     "output_type": "stream",
     "text": [
      "Enter a string with multiple spaces:  Umbrella\n"
     ]
    },
    {
     "name": "stdout",
     "output_type": "stream",
     "text": [
      "String with multiple spaces replaced: Umbrella\n"
     ]
    }
   ],
   "source": [
    "#Problem 33\n",
    "\n",
    "\n",
    "import re\n",
    "\n",
    "def replace_multiple_spaces(input_string):\n",
    "    return re.sub(' +', ' ', input_string)\n",
    "\n",
    "input_str = input(\"Enter a string with multiple spaces: \")\n",
    "result_str = replace_multiple_spaces(input_str)\n",
    "\n",
    "print(\"String with multiple spaces replaced:\", result_str)\n"
   ]
  },
  {
   "cell_type": "code",
   "execution_count": 58,
   "id": "c2638e2d-9a2f-4a2a-8ad2-501942a20c28",
   "metadata": {},
   "outputs": [
    {
     "name": "stdin",
     "output_type": "stream",
     "text": [
      "Enter a URL:  https// www.google.com\n"
     ]
    },
    {
     "name": "stdout",
     "output_type": "stream",
     "text": [
      "The URL is not valid.\n"
     ]
    }
   ],
   "source": [
    "#Problem 34\n",
    "\n",
    "from urllib.parse import urlparse\n",
    "\n",
    "def is_valid_url(url):\n",
    "    try:\n",
    "        result = urlparse(url)\n",
    "        return all([result.scheme, result.netloc])\n",
    "    except ValueError:\n",
    "        return False\n",
    "\n",
    "url_input = input(\"Enter a URL: \")\n",
    "\n",
    "if is_valid_url(url_input):\n",
    "    print(\"The URL is valid.\")\n",
    "else:\n",
    "    print(\"The URL is not valid.\")\n"
   ]
  },
  {
   "cell_type": "code",
   "execution_count": 59,
   "id": "e69b6406-cc44-40bb-8477-0795df606733",
   "metadata": {},
   "outputs": [
    {
     "name": "stdin",
     "output_type": "stream",
     "text": [
      "Enter a URL:  https://www.google.com/\n"
     ]
    },
    {
     "name": "stdout",
     "output_type": "stream",
     "text": [
      "The protocol of the URL is: https\n"
     ]
    }
   ],
   "source": [
    "#Problem 35\n",
    "\n",
    "\n",
    "from urllib.parse import urlparse\n",
    "\n",
    "def extract_protocol(url):\n",
    "    parsed_url = urlparse(url)\n",
    "    return parsed_url.scheme\n",
    "\n",
    "url_input = input(\"Enter a URL: \")\n",
    "\n",
    "protocol = extract_protocol(url_input)\n",
    "\n",
    "if protocol:\n",
    "    print(f\"The protocol of the URL is: {protocol}\")\n",
    "else:\n",
    "    print(\"Invalid URL. Unable to extract the protocol.\")\n"
   ]
  },
  {
   "cell_type": "code",
   "execution_count": 60,
   "id": "4435d5fe-c558-44cf-a417-7369a03b7932",
   "metadata": {},
   "outputs": [
    {
     "name": "stdin",
     "output_type": "stream",
     "text": [
      "Enter a string:  Newzealand\n"
     ]
    },
    {
     "name": "stdout",
     "output_type": "stream",
     "text": [
      "Character frequencies:\n",
      "n: 2\n",
      "e: 2\n",
      "w: 1\n",
      "z: 1\n",
      "a: 2\n",
      "l: 1\n",
      "d: 1\n"
     ]
    }
   ],
   "source": [
    "#Problem 36\n",
    "\n",
    "\n",
    "def character_frequency(input_string):\n",
    "    frequency_dict = {}\n",
    "    \n",
    "    for char in input_string:\n",
    "        if char.isalpha():  \n",
    "            char = char.lower()  \n",
    "            frequency_dict[char] = frequency_dict.get(char, 0) + 1\n",
    "    \n",
    "    return frequency_dict\n",
    "\n",
    "input_str = input(\"Enter a string: \")\n",
    "result_dict = character_frequency(input_str)\n",
    "\n",
    "print(\"Character frequencies:\")\n",
    "for char, count in result_dict.items():\n",
    "    print(f\"{char}: {count}\")\n"
   ]
  },
  {
   "cell_type": "code",
   "execution_count": 61,
   "id": "3c90b513-0cea-43b0-8c67-f40360a9507d",
   "metadata": {},
   "outputs": [
    {
     "name": "stdin",
     "output_type": "stream",
     "text": [
      "Enter a string with punctuation:  jakarta\n"
     ]
    },
    {
     "name": "stdout",
     "output_type": "stream",
     "text": [
      "String with punctuation removed: jakarta\n"
     ]
    }
   ],
   "source": [
    "#Problem 37\n",
    "\n",
    "\n",
    "import string\n",
    "\n",
    "def remove_punctuation(input_string):\n",
    "    translator = str.maketrans('', '', string.punctuation)\n",
    "    return input_string.translate(translator)\n",
    "\n",
    "input_str = input(\"Enter a string with punctuation: \")\n",
    "result_str = remove_punctuation(input_str)\n",
    "\n",
    "print(\"String with punctuation removed:\", result_str)\n"
   ]
  },
  {
   "cell_type": "code",
   "execution_count": 64,
   "id": "a1722159-fb78-4944-93f5-ba9b7078d660",
   "metadata": {},
   "outputs": [
    {
     "name": "stdin",
     "output_type": "stream",
     "text": [
      "Enter a string:  talent_1\n"
     ]
    },
    {
     "name": "stdout",
     "output_type": "stream",
     "text": [
      "The string does not contain only digits.\n"
     ]
    }
   ],
   "source": [
    "#Problem 38\n",
    "\n",
    "def contains_only_digits(input_string):\n",
    "    return input_string.isdigit()\n",
    "\n",
    "\n",
    "input_str = input(\"Enter a string: \")\n",
    "\n",
    "if contains_only_digits(input_str):\n",
    "    print(\"The string contains only digits.\")\n",
    "else:\n",
    "    print(\"The string does not contain only digits.\")\n"
   ]
  },
  {
   "cell_type": "code",
   "execution_count": 65,
   "id": "988358c1-dfea-4a61-94a2-59d95aa6954b",
   "metadata": {},
   "outputs": [
    {
     "name": "stdin",
     "output_type": "stream",
     "text": [
      "Enter a string:  memory\n"
     ]
    },
    {
     "name": "stdout",
     "output_type": "stream",
     "text": [
      "The string contains only alphabets.\n"
     ]
    }
   ],
   "source": [
    "#Problem 39\n",
    "\n",
    "\n",
    "def contains_only_alphabets(input_string):\n",
    "    return input_string.isalpha()\n",
    "\n",
    "input_str = input(\"Enter a string: \")\n",
    "\n",
    "if contains_only_alphabets(input_str):\n",
    "    print(\"The string contains only alphabets.\")\n",
    "else:\n",
    "    print(\"The string does not contain only alphabets.\")\n"
   ]
  },
  {
   "cell_type": "code",
   "execution_count": 66,
   "id": "dd13039b-3f98-4c2b-a7f6-ba90d3a8e334",
   "metadata": {},
   "outputs": [
    {
     "name": "stdin",
     "output_type": "stream",
     "text": [
      "Enter a string:  Python\n"
     ]
    },
    {
     "name": "stdout",
     "output_type": "stream",
     "text": [
      "List of characters: ['P', 'y', 't', 'h', 'o', 'n']\n"
     ]
    }
   ],
   "source": [
    "#Problem 40\n",
    "#Convert a string to a list of characters.\n",
    "\n",
    "\n",
    "def string_to_list(input_string):\n",
    "    return list(input_string)\n",
    "\n",
    "input_str = input(\"Enter a string: \")\n",
    "char_list = string_to_list(input_str)\n",
    "\n",
    "print(\"List of characters:\", char_list)\n"
   ]
  },
  {
   "cell_type": "code",
   "execution_count": 67,
   "id": "14123ad5-bed7-4c63-b086-bc2f674198c0",
   "metadata": {},
   "outputs": [
    {
     "name": "stdin",
     "output_type": "stream",
     "text": [
      "Enter the first string:  people\n",
      "Enter the second string:  like\n"
     ]
    },
    {
     "name": "stdout",
     "output_type": "stream",
     "text": [
      "The strings are not anagrams.\n"
     ]
    }
   ],
   "source": [
    "#Problem 41\n",
    "#Check if two strings are anagrams.\n",
    "\n",
    "\n",
    "def are_anagrams(str1, str2):\n",
    "    return sorted(str1) == sorted(str2)\n",
    "\n",
    "string1 = input(\"Enter the first string: \")\n",
    "string2 = input(\"Enter the second string: \")\n",
    "\n",
    "if are_anagrams(string1, string2):\n",
    "    print(\"The strings are anagrams.\")\n",
    "else:\n",
    "    print(\"The strings are not anagrams.\")\n"
   ]
  },
  {
   "cell_type": "code",
   "execution_count": 73,
   "id": "af470e6f-fc7a-4890-abd9-0bff60054d4a",
   "metadata": {},
   "outputs": [
    {
     "name": "stdin",
     "output_type": "stream",
     "text": [
      "Enter a string:  programming\n",
      "Enter the shift amount for the Caesar cipher:  3\n"
     ]
    },
    {
     "name": "stdout",
     "output_type": "stream",
     "text": [
      "Encrypted string: surjudpplqj\n"
     ]
    }
   ],
   "source": [
    "#Problem 42\n",
    "#Encode a string using a Caesar cipher.\n",
    "\n",
    "\n",
    "def caesar_cipher_encrypt(input_string, shift):\n",
    "    encrypted_string = \"\"\n",
    "    \n",
    "    for char in input_string:\n",
    "        if char.isalpha():\n",
    "           \n",
    "            is_upper = char.isupper()\n",
    "            \n",
    "            \n",
    "            char_code = ord(char)\n",
    "            encrypted_char = chr((char_code - ord('A' if is_upper else 'a') + shift) % 26 + ord('A' if is_upper else 'a'))\n",
    "            \n",
    "            encrypted_string += encrypted_char\n",
    "        else:\n",
    "           \n",
    "            encrypted_string += char\n",
    "    \n",
    "    return encrypted_string\n",
    "\n",
    "\n",
    "input_str = input(\"Enter a string: \")\n",
    "shift_amount = int(input(\"Enter the shift amount for the Caesar cipher: \"))\n",
    "\n",
    "encrypted_str = caesar_cipher_encrypt(input_str, shift_amount)\n",
    "\n",
    "print(\"Encrypted string:\", encrypted_str)\n"
   ]
  },
  {
   "cell_type": "code",
   "execution_count": 74,
   "id": "d79bcb85-0474-4cdd-88b0-d227bc8ace68",
   "metadata": {},
   "outputs": [
    {
     "name": "stdin",
     "output_type": "stream",
     "text": [
      "Enter the encrypted string:  surjudpplqj\n",
      "Enter the shift amount used for the Caesar cipher:  3\n"
     ]
    },
    {
     "name": "stdout",
     "output_type": "stream",
     "text": [
      "Decrypted string: programming\n"
     ]
    }
   ],
   "source": [
    "#Problem 43\n",
    "# Decode a Caesar cipher encoded string.\n",
    "\n",
    "\n",
    "\n",
    "def caesar_cipher_decrypt(encrypted_string, shift):\n",
    "    decrypted_string = \"\"\n",
    "    \n",
    "    for char in encrypted_string:\n",
    "        if char.isalpha():\n",
    "        \n",
    "            is_upper = char.isupper()\n",
    "            \n",
    "            \n",
    "            char_code = ord(char)\n",
    "            decrypted_char = chr((char_code - ord('A' if is_upper else 'a') - shift) % 26 + ord('A' if is_upper else 'a'))\n",
    "            \n",
    "            decrypted_string += decrypted_char\n",
    "        else:\n",
    "            \n",
    "            decrypted_string += char\n",
    "    \n",
    "    return decrypted_string\n",
    "\n",
    "\n",
    "encrypted_str = input(\"Enter the encrypted string: \")\n",
    "shift_amount = int(input(\"Enter the shift amount used for the Caesar cipher: \"))\n",
    "\n",
    "decrypted_str = caesar_cipher_decrypt(encrypted_str, shift_amount)\n",
    "\n",
    "print(\"Decrypted string:\", decrypted_str)\n"
   ]
  },
  {
   "cell_type": "code",
   "execution_count": 75,
   "id": "c751621d-4ba4-4268-8014-4c00a52e58cb",
   "metadata": {},
   "outputs": [
    {
     "name": "stdin",
     "output_type": "stream",
     "text": [
      "Enter a string:  language\n"
     ]
    },
    {
     "name": "stdout",
     "output_type": "stream",
     "text": [
      "The most frequent word is 'language' with a frequency of 1.\n"
     ]
    }
   ],
   "source": [
    "#Problem 44\n",
    "# Find the most frequent word in a string.\n",
    "\n",
    "\n",
    "from collections import Counter\n",
    "\n",
    "def most_frequent_word(input_string):\n",
    "    words = input_string.split()\n",
    "    word_counts = Counter(words)\n",
    "\n",
    "    \n",
    "    most_common_word, frequency = word_counts.most_common(1)[0]\n",
    "\n",
    "    return most_common_word, frequency\n",
    "\n",
    "input_str = input(\"Enter a string: \")\n",
    "result_word, frequency = most_frequent_word(input_str)\n",
    "\n",
    "print(f\"The most frequent word is '{result_word}' with a frequency of {frequency}.\")\n"
   ]
  },
  {
   "cell_type": "code",
   "execution_count": 76,
   "id": "e69c0495-c461-4ce0-bab2-4ea9a004b472",
   "metadata": {},
   "outputs": [
    {
     "name": "stdin",
     "output_type": "stream",
     "text": [
      "Enter a string:  Python\n"
     ]
    },
    {
     "name": "stdout",
     "output_type": "stream",
     "text": [
      "Unique words: {'Python'}\n"
     ]
    }
   ],
   "source": [
    "#Problem 45\n",
    "#  Find all unique words in a string\n",
    "\n",
    "\n",
    "def unique_words(input_string):\n",
    "    words = input_string.split()\n",
    "    unique_word_set = set(words)\n",
    "    return unique_word_set\n",
    "\n",
    "input_str = input(\"Enter a string: \")\n",
    "unique_words_set = unique_words(input_str)\n",
    "\n",
    "print(\"Unique words:\", unique_words_set)\n"
   ]
  },
  {
   "cell_type": "code",
   "execution_count": 78,
   "id": "84a90bf1-532e-4b19-b428-741768a234cd",
   "metadata": {},
   "outputs": [
    {
     "name": "stdin",
     "output_type": "stream",
     "text": [
      "Enter a string:  language\n"
     ]
    },
    {
     "name": "stdout",
     "output_type": "stream",
     "text": [
      "Number of syllables: 4\n"
     ]
    }
   ],
   "source": [
    "#Problem 46\n",
    "#  Count the number of syllables in a string.\n",
    "\n",
    "\n",
    "def count_syllables(input_string):\n",
    "    vowels = \"aeiouAEIOU\"\n",
    "    count = 0\n",
    "\n",
    "    for char in input_string:\n",
    "        if char in vowels:\n",
    "            count += 1\n",
    "\n",
    "    return count\n",
    "\n",
    "# Example usage:\n",
    "input_str = input(\"Enter a string: \")\n",
    "syllable_count = count_syllables(input_str)\n",
    "\n",
    "print(\"Number of syllables:\", syllable_count)\n"
   ]
  },
  {
   "cell_type": "code",
   "execution_count": 80,
   "id": "4c479c34-2370-4e3e-ba46-042793446ee4",
   "metadata": {},
   "outputs": [
    {
     "name": "stdin",
     "output_type": "stream",
     "text": [
      "Enter a string:  programming@#$_\n"
     ]
    },
    {
     "name": "stdout",
     "output_type": "stream",
     "text": [
      "The string contains special characters.\n"
     ]
    }
   ],
   "source": [
    "#Problem 47\n",
    "# Check if a string contains any special characters.\n",
    "\n",
    "\n",
    "import re\n",
    "\n",
    "def contains_special_characters(input_string):\n",
    "\n",
    "    pattern = re.compile(r'[!@#$%^&*()_+{}\\[\\]:;<>,.?~\\\\/-]')\n",
    "\n",
    "    \n",
    "    return bool(pattern.search(input_string))\n",
    "\n",
    "input_str = input(\"Enter a string: \")\n",
    "\n",
    "if contains_special_characters(input_str):\n",
    "    print(\"The string contains special characters.\")\n",
    "else:\n",
    "    print(\"The string does not contain special characters.\")\n"
   ]
  },
  {
   "cell_type": "code",
   "execution_count": 82,
   "id": "15740bca-3072-4b55-8ce2-82e448e39863",
   "metadata": {},
   "outputs": [
    {
     "name": "stdin",
     "output_type": "stream",
     "text": [
      "Enter a string:  python\n",
      "Enter the index of the word to remove (1-based):  2\n"
     ]
    },
    {
     "name": "stdout",
     "output_type": "stream",
     "text": [
      "String with nth word removed: Invalid index. The string remains unchanged.\n"
     ]
    }
   ],
   "source": [
    "#Problem 48\n",
    "#  Remove the nth word from a string.\n",
    "\n",
    "\n",
    "def remove_nth_word(input_string, n):\n",
    "    words = input_string.split()\n",
    "    \n",
    "    if 1 <= n <= len(words):\n",
    "        del words[n - 1]  \n",
    "        result_string = ' '.join(words)\n",
    "        return result_string\n",
    "    else:\n",
    "        return \"Invalid index. The string remains unchanged.\"\n",
    "\n",
    "input_str = input(\"Enter a string: \")\n",
    "nth_word_index = int(input(\"Enter the index of the word to remove (1-based): \"))\n",
    "\n",
    "result_str = remove_nth_word(input_str, nth_word_index)\n",
    "print(\"String with nth word removed:\", result_str)\n"
   ]
  },
  {
   "cell_type": "code",
   "execution_count": 84,
   "id": "77868b41-6fce-4e21-bd4d-5110af40ef4b",
   "metadata": {},
   "outputs": [
    {
     "name": "stdin",
     "output_type": "stream",
     "text": [
      "Enter a string:  python\n",
      "Enter the index to insert the word (1-based):  2\n",
      "Enter the word to insert:  r\n"
     ]
    },
    {
     "name": "stdout",
     "output_type": "stream",
     "text": [
      "String with word inserted: python r\n"
     ]
    }
   ],
   "source": [
    "#Problem 49\n",
    "#  Insert a word at the nth position in a string.\n",
    "\n",
    "\n",
    "def insert_word_at_nth_position(input_string, n, new_word):\n",
    "    words = input_string.split()\n",
    "\n",
    "    if 1 <= n <= len(words) + 1:  \n",
    "        words.insert(n - 1, new_word)  \n",
    "        result_string = ' '.join(words)\n",
    "        return result_string\n",
    "    else:\n",
    "        return \"Invalid index. The string remains unchanged.\"\n",
    "\n",
    "input_str = input(\"Enter a string: \")\n",
    "nth_position = int(input(\"Enter the index to insert the word (1-based): \"))\n",
    "new_word = input(\"Enter the word to insert: \")\n",
    "\n",
    "result_str = insert_word_at_nth_position(input_str, nth_position, new_word)\n",
    "print(\"String with word inserted:\", result_str)\n"
   ]
  },
  {
   "cell_type": "code",
   "execution_count": null,
   "id": "c47b5388-d85d-4e2b-ac69-e0adb6a562c8",
   "metadata": {},
   "outputs": [],
   "source": [
    "#Problem 50\n",
    "#  Convert a CSV string to a list of lists.\n",
    "\n",
    "\n",
    "import csv\n",
    "from io import StringIO\n",
    "\n",
    "def csv_string_to_list(csv_string):\n",
    "    \n",
    "    csv_reader = csv.reader(StringIO(csv_string))\n",
    "    \n",
    "    \n",
    "    csv_list = list(csv_reader)\n",
    "    \n",
    "    return csv_list\n",
    "\n",
    "csv_string = input(\"Enter a CSV string: \")\n",
    "result_list = csv_string_to_list(csv_string)\n",
    "\n",
    "print(\"List of lists:\", result_list)\n"
   ]
  },
  {
   "cell_type": "code",
   "execution_count": null,
   "id": "aa66edc5-e32f-4a3d-8d0e-c595ddcd9986",
   "metadata": {},
   "outputs": [],
   "source": []
  }
 ],
 "metadata": {
  "kernelspec": {
   "display_name": "Python 3 (ipykernel)",
   "language": "python",
   "name": "python3"
  },
  "language_info": {
   "codemirror_mode": {
    "name": "ipython",
    "version": 3
   },
   "file_extension": ".py",
   "mimetype": "text/x-python",
   "name": "python",
   "nbconvert_exporter": "python",
   "pygments_lexer": "ipython3",
   "version": "3.10.8"
  }
 },
 "nbformat": 4,
 "nbformat_minor": 5
}
